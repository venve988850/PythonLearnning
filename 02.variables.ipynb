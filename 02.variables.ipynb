{
 "cells": [
  {
   "cell_type": "markdown",
   "metadata": {},
   "source": [
    "# 主要内容\n",
    "- 坚持写Blog\n",
    "- jupyter notebook的用法\n",
    "- 变量\n",
    "- 跟vi/vim的编辑模式很像"
   ]
  },
  {
   "cell_type": "code",
   "execution_count": 7,
   "metadata": {
    "collapsed": true
   },
   "outputs": [],
   "source": [
    "#声明的三种格式\n",
    "#格式1\n",
    "s1 = \"我爱北京天安门\"\n",
    "\n",
    "#格式2\n",
    "s2 = s1 = \"我\"\n",
    "\n",
    "#格式3\n",
    "s1, s2, s3 = 1, 3, 'a'\n"
   ]
  },
  {
   "cell_type": "markdown",
   "metadata": {},
   "source": [
    "# 变量类型\n",
    "- 严格意义上，python只有一个类型\n",
    "- 标准数据类型六种\n",
    "    - Number 数字\n",
    "    - str 字符\n",
    "    - list 列表\n",
    "    - tuple 元组\n",
    "    - dict 字典\n",
    "    - set 集合   "
   ]
  },
  {
   "cell_type": "markdown",
   "metadata": {},
   "source": [
    "# 数字类型 Number\n",
    "- Python中的数字没有大小限制\n",
    "# 常见数字分类\n",
    "- 整数（int）\n",
    "    - 没有小数部分\n",
    "    - 包含正数，负数，0\n",
    "    - 二进制\n",
    "        - 只有0,1\n",
    "        - 以0b开头的01串\n",
    "        - 例子：\n",
    "            - 0b110\n",
    "            - 0b1110\n",
    "    - 八进制\n",
    "        - 以0o开头的0~7之间的数字串\n",
    "        - 例子:\n",
    "            - 0o71\n",
    "    - 十六进制\n",
    "        - 以0x组成的由0~9, a-f构成的数字串\n",
    "        - 例子：\n",
    "            - 0xffff\n",
    "- 浮点数（float)\n",
    "- 科学计数法\n",
    "- 复数"
   ]
  },
  {
   "cell_type": "code",
   "execution_count": 10,
   "metadata": {},
   "outputs": [
    {
     "name": "stdout",
     "output_type": "stream",
     "text": [
      "6\n",
      "30\n"
     ]
    }
   ],
   "source": [
    "# 二进制的定义\n",
    "a1 = 0b110\n",
    "print(a1)\n",
    "\n",
    "a2 = 0b11110\n",
    "print(a2)"
   ]
  },
  {
   "cell_type": "code",
   "execution_count": 12,
   "metadata": {},
   "outputs": [
    {
     "name": "stdout",
     "output_type": "stream",
     "text": [
      "57\n"
     ]
    }
   ],
   "source": [
    "# 八进制的定义\n",
    "\n",
    "a3 = 0o71\n",
    "print(a3)"
   ]
  },
  {
   "cell_type": "code",
   "execution_count": 1,
   "metadata": {},
   "outputs": [
    {
     "name": "stdout",
     "output_type": "stream",
     "text": [
      "65535\n",
      "21490\n"
     ]
    }
   ],
   "source": [
    "#十六进制的案例\n",
    "a4 = 0xffff\n",
    "print(a4)\n",
    "\n",
    "a5 = 0x53f2\n",
    "print(a5)"
   ]
  },
  {
   "cell_type": "markdown",
   "metadata": {},
   "source": [
    "## 浮点数\n",
    "- 就是通俗意义上的小数\n",
    "- 常见的格式\n",
    "    - 3.141592\n",
    "    - 3.  等价3.0\n",
    "    - 0.5\n",
    "    - .4 等价0.4\n",
    "- 科学记数法\n",
    "    - 定义和数学定义一致\n",
    "    - 写法就是e后面用来表示10的指数"
   ]
  },
  {
   "cell_type": "code",
   "execution_count": 4,
   "metadata": {},
   "outputs": [
    {
     "name": "stdout",
     "output_type": "stream",
     "text": [
      "184\n",
      "184.0\n",
      "0.2\n"
     ]
    }
   ],
   "source": [
    "# 科学计数法\n",
    "heigh = 184\n",
    "print(184)\n",
    "\n",
    "heigh = 1.84e2\n",
    "print(heigh)\n",
    "\n",
    "a = .2\n",
    "print(a)"
   ]
  },
  {
   "cell_type": "markdown",
   "metadata": {},
   "source": [
    "# 复数 complex\n",
    "- 和数学定义一致\n",
    "- 复数的虚部用j/J表示\n",
    "- 例子：\n",
    "    - 5+4j\n",
    "    - 4j\n",
    "    -(4J)"
   ]
  },
  {
   "cell_type": "code",
   "execution_count": 6,
   "metadata": {},
   "outputs": [
    {
     "name": "stdout",
     "output_type": "stream",
     "text": [
      "4j\n"
     ]
    }
   ],
   "source": [
    "a = 4j\n",
    "print(a)"
   ]
  },
  {
   "cell_type": "markdown",
   "metadata": {},
   "source": [
    "# 布尔值\n",
    "- 布尔值就是用来表示真假的值\n",
    "- 只有两个值： True/False\n",
    "- 在Python中，布尔值可以当数字使用\n",
    "    - 布尔值如果当数字使用，True = 1 ,False = 0\n",
    "    - 如果数字用来当做布尔值使用，0 = False,其余当做True\n"
   ]
  },
  {
   "cell_type": "code",
   "execution_count": 11,
   "metadata": {},
   "outputs": [
    {
     "name": "stdout",
     "output_type": "stream",
     "text": [
      "19\n",
      "18\n",
      "负数是True\n"
     ]
    }
   ],
   "source": [
    "# 布尔值当作数字使用\n",
    "\n",
    "age = 18 + True\n",
    "print(age)\n",
    "\n",
    "age1 = 18 + False\n",
    "print(age1)\n",
    "\n",
    "# 判断语句\n",
    "\n",
    "a = -1\n",
    "\n",
    "if a:\n",
    "    print(\"负数是True\")\n",
    "else:\n",
    "    print(\"负数是False\")\n",
    "    "
   ]
  },
  {
   "cell_type": "markdown",
   "metadata": {},
   "source": [
    "# 字符串\n",
    "- 表达文字信息的内容， 比如“我爱北京天安门”\n",
    "- 形式上是引号引起来的一段内容\n",
    "- 引号包括\n",
    "    - 单引号\n",
    "    - 双引号\n",
    "    - 三引号，可以用来表示多行信息\n",
    "- 单双引号含义一致（pep8规范）"
   ]
  },
  {
   "cell_type": "code",
   "execution_count": 15,
   "metadata": {},
   "outputs": [
    {
     "name": "stdout",
     "output_type": "stream",
     "text": [
      "Ich liebe Wang Xiaojing\n",
      "I love wang xiaojing \n",
      "\n",
      "wo \n",
      "ai \n",
      "ni\n",
      "a \n"
     ]
    }
   ],
   "source": [
    "# 字符串案例\n",
    "\n",
    "love = \"Ich liebe Wang Xiaojing\"\n",
    "print(love)\n",
    "\n",
    "love2 = 'I love wang xiaojing '\n",
    "print(love2)\n",
    "\n",
    "#三引号可以表示多行\n",
    "\n",
    "love3 = '''\n",
    "wo \n",
    "ai \n",
    "ni\n",
    "a '''\n",
    "print(love3)\n",
    "\n",
    "# 一下案例说明单双引号只能引用一行\n",
    "#love4 = \"\n",
    "#wo \n",
    "#ai \n",
    "#ni \n",
    "#a \"\n",
    "#print(love4)\n"
   ]
  },
  {
   "cell_type": "markdown",
   "metadata": {},
   "source": [
    "# None 类型\n",
    "- 表示没有，通常用来占位\n",
    "- 比如返回，用来表示返回一个空"
   ]
  }
 ],
 "metadata": {
  "kernelspec": {
   "display_name": "Python 3",
   "language": "python",
   "name": "python3"
  },
  "language_info": {
   "codemirror_mode": {
    "name": "ipython",
    "version": 3
   },
   "file_extension": ".py",
   "mimetype": "text/x-python",
   "name": "python",
   "nbconvert_exporter": "python",
   "pygments_lexer": "ipython3",
   "version": "3.6.3"
  }
 },
 "nbformat": 4,
 "nbformat_minor": 2
}
