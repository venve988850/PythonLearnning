{
 "cells": [
  {
   "cell_type": "markdown",
   "metadata": {},
   "source": [
    "# 函数\n",
    "- 函数是代码的一种组织形式\n",
    "- 函数应该能完成一项特定的工作，而且一般一个函数只完成一项工作\n",
    "- 有些语言，分函数合过程两个概念，通俗解释是，有返回结果的叫函数，无返回结果的叫过程，python不加以区分\n",
    "- 函数的使用\n",
    "    - 函数使用需要先定义\n",
    "    - 使用函数，俗称调用\n",
    "    "
   ]
  },
  {
   "cell_type": "code",
   "execution_count": 12,
   "metadata": {},
   "outputs": [
    {
     "name": "stdout",
     "output_type": "stream",
     "text": [
      "函数结束了\n"
     ]
    }
   ],
   "source": [
    "# 定义一个函数\n",
    "# 只是定义的话不会执行\n",
    "# 1.def关键字，后跟一个空格\n",
    "# 2.函数名，自己定义，起名需要遵循便令命名规则，约定俗成，大驼峰命名只给类用\n",
    "# 3.后面括号合冒号不能省，括号内可以有参数\n",
    "# 4.函数内所有代码缩进\n",
    "\n",
    "def func():\n",
    "    print(\"我是一个函数\")\n",
    "    print(\"爱生活，爱拉芳\")\n",
    "    \n",
    "print(\"函数结束了\")"
   ]
  },
  {
   "cell_type": "code",
   "execution_count": 13,
   "metadata": {},
   "outputs": [
    {
     "name": "stdout",
     "output_type": "stream",
     "text": [
      "我是一个函数\n",
      "爱生活，爱拉芳\n"
     ]
    }
   ],
   "source": [
    "# 函数的调用\n",
    "# 直接写出函数名字，后面小括号不能省略，括号内内容根据情况\n",
    "func()"
   ]
  },
  {
   "cell_type": "markdown",
   "metadata": {},
   "source": [
    "# 函数的参数和返回值\n",
    "- 参数: 负责给函数传递一些必要的数据或者信息\n",
    "    - 形参(形式参数):在函数定义的时候用到的参数，没有具体值，只是一个占位符号\n",
    "    - 实参(实际参数):在调用函数的时候输入的值\n",
    "- 返回值: 调用函数的时候的一个执行结果\n",
    "    - 使用return返回结果\n",
    "    - 如果没有值需要返回，我们推荐使用return None表示函数结束return 等于函数无条件返回\n",
    "    - 函数一旦执行return,则函数立即结束\n",
    "    - 如果函数没有return关键字，则返回None"
   ]
  },
  {
   "cell_type": "code",
   "execution_count": 14,
   "metadata": {},
   "outputs": [
    {
     "name": "stdout",
     "output_type": "stream",
     "text": [
      "小明, 你好吗?\n",
      "小明, 你看见刘老师了吗？\n"
     ]
    }
   ],
   "source": [
    "# 形参和实参的案例\n",
    "# 参数person只是一个符号\n",
    "# 调用的时候用另一个\n",
    "def hello(person):\n",
    "    print(\"{0}, 你好吗?\".format(person))\n",
    "    print(\"{}, 你看见刘老师了吗？\".format(person))\n",
    "\n",
    "p = \"小明\"\n",
    "#调用函数，需要把p作为实参传入\n",
    "hello(p)"
   ]
  },
  {
   "cell_type": "code",
   "execution_count": 16,
   "metadata": {},
   "outputs": [
    {
     "name": "stdout",
     "output_type": "stream",
     "text": [
      "小五, 你好吗?\n",
      "小五, 你看见刘老师了吗？\n"
     ]
    }
   ],
   "source": [
    "p = \"小五\"\n",
    "hello(p)"
   ]
  },
  {
   "cell_type": "code",
   "execution_count": 18,
   "metadata": {},
   "outputs": [
    {
     "name": "stdout",
     "output_type": "stream",
     "text": [
      "大哥, 你好吗?\n",
      "大哥, 你看见刘老师了吗？\n",
      "None\n"
     ]
    }
   ],
   "source": [
    "pp = hello(\"大哥\")\n",
    "print(pp)"
   ]
  },
  {
   "cell_type": "code",
   "execution_count": 19,
   "metadata": {},
   "outputs": [
    {
     "name": "stdout",
     "output_type": "stream",
     "text": [
      "Help on built-in function print in module builtins:\n",
      "\n",
      "print(...)\n",
      "    print(value, ..., sep=' ', end='\\n', file=sys.stdout, flush=False)\n",
      "    \n",
      "    Prints the values to a stream, or to sys.stdout by default.\n",
      "    Optional keyword arguments:\n",
      "    file:  a file-like object (stream); defaults to the current sys.stdout.\n",
      "    sep:   string inserted between values, default a space.\n",
      "    end:   string appended after the last value, default a newline.\n",
      "    flush: whether to forcibly flush the stream.\n",
      "\n"
     ]
    }
   ],
   "source": [
    "# help负责随时为你提供帮助\n",
    "help(None) #等价于help(print())"
   ]
  },
  {
   "cell_type": "code",
   "execution_count": 50,
   "metadata": {},
   "outputs": [
    {
     "name": "stdout",
     "output_type": "stream",
     "text": [
      "1  \n",
      "2  4  \n",
      "3  6  9  \n",
      "4  8  12  16  \n",
      "5  10  15  20  25  \n",
      "6  12  18  24  30  36  \n",
      "7  14  21  28  35  42  49  \n",
      "8  16  24  32  40  48  56  64  \n",
      "9  18  27  36  45  54  63  72  81  \n"
     ]
    }
   ],
   "source": [
    "# 九九乘法表\n",
    "# version 1.0\n",
    "\n",
    "for i in range(1,10):#控制外循环，从1到9\n",
    "    for x in range(1,i+1):# 内循环.每次从第一个数字开始，打印到跟行数相同的数量\n",
    "        print(x * i, end = \"  \")\n",
    "    print()"
   ]
  },
  {
   "cell_type": "code",
   "execution_count": 56,
   "metadata": {},
   "outputs": [
    {
     "name": "stdout",
     "output_type": "stream",
     "text": [
      "1  \n",
      "2  4  \n",
      "3  6  9  \n",
      "4  8  12  16  \n",
      "5  10  15  20  25  \n",
      "6  12  18  24  30  36  \n",
      "7  14  21  28  35  42  49  \n",
      "8  16  24  32  40  48  56  64  \n",
      "9  18  27  36  45  54  63  72  81  \n",
      "1  \n",
      "2  4  \n",
      "3  6  9  \n",
      "4  8  12  16  \n",
      "5  10  15  20  25  \n",
      "6  12  18  24  30  36  \n",
      "7  14  21  28  35  42  49  \n",
      "8  16  24  32  40  48  56  64  \n",
      "9  18  27  36  45  54  63  72  81  \n"
     ]
    }
   ],
   "source": [
    "# 尝试用函数来打印九九乘法表\n",
    "\n",
    "def jiujiu():\n",
    "    for i in range(1,10):#控制外循环，从1到9\n",
    "        for x in range(1,i+1):# 内循环.每次从第一个数字开始，打印到跟行数相同的数量\n",
    "            print(x * i, end = \"  \")\n",
    "        print()\n",
    "    return None\n",
    "    \n",
    "jiujiu()\n",
    "jiujiu()"
   ]
  },
  {
   "cell_type": "code",
   "execution_count": 65,
   "metadata": {},
   "outputs": [
    {
     "name": "stdout",
     "output_type": "stream",
     "text": [
      "1 \n",
      "2 4 \n",
      "3 6 9 \n",
      "4 8 12 16 \n",
      "5 10 15 20 25 \n",
      "6 12 18 24 30 36 \n",
      "7 14 21 28 35 42 49 \n",
      "8 16 24 32 40 48 56 64 \n",
      "9 18 27 36 45 54 63 72 81 \n"
     ]
    }
   ],
   "source": [
    "# 改造上面函数\n",
    "def printLine(line_num):\n",
    "    '''\n",
    "    line_num: 代表行号\n",
    "    \n",
    "    打印一行九九乘法表\n",
    "    '''\n",
    "    for i in range(1, line_num + 1):\n",
    "        print(line_num * i, end=\" \")\n",
    "    print()   \n",
    "    \n",
    "    \n",
    "def jiujiu():\n",
    "    for  o in range(1,10):#控制外循环，从1到9\n",
    "        printLine(o)\n",
    "    return None\n",
    "\n",
    "jiujiu()"
   ]
  },
  {
   "cell_type": "markdown",
   "metadata": {},
   "source": [
    "# 参数详解\n",
    "- 参数分类\n",
    "    - 普通参数/位置参数/必须参数\n",
    "    - 默认参数\n",
    "    - 关键字参数\n",
    "    - 收集参数(列表以后在讲）\n",
    "- 普通参数\n",
    "    - C参见上例\n",
    "    - 定义的时候直接定义变量名\n",
    "    - 调用的时候直接把变量或者值放入指定位置\n",
    "    \n",
    "    ```python\n",
    "            def 函数名（参数1，参数2，.....）:\n",
    "                函数体\n",
    "             \n",
    "            # 调用\n",
    "            函数名（value1,value2.....）\n",
    "\n",
    "            # 调用的时候，具体值参考的是位置，按位置赋值\n",
    "     ```\n",
    "            \n",
    "- 默认参数\n",
    "    - 形参带有默认值\n",
    "    - 调用的时候，如果没有对相应的形参赋值，则使用默认值\n",
    "    ```python\n",
    "            def func_name(p1=v1, p2=v2....):\n",
    "                func_block\n",
    "            \n",
    "            # 调用\n",
    "            func_name()\n",
    "            \n",
    "            # 调用\n",
    "            value1 = 100\n",
    "            velue2 = 200\n",
    "            func_name(value1, value2)\n",
    "    ```\n",
    "    "
   ]
  },
  {
   "cell_type": "code",
   "execution_count": 3,
   "metadata": {},
   "outputs": [
    {
     "name": "stdout",
     "output_type": "stream",
     "text": [
      "ada is 18, and he is a good student\n",
      "mimi is 18, and she is a good student\n"
     ]
    }
   ],
   "source": [
    "# 默认参数实例\n",
    "# 报名函数，需要知道学生性别\n",
    "# 学习python的学生基本都是男生，所以，报名的时候如果没有特别指定，我们认为是男生\n",
    "def reg(name, age, gender=\"male\"):\n",
    "    if gender == \"male\":\n",
    "        print(\"{0} is {1}, and he is a good student\".format(name,age))\n",
    "    else:\n",
    "        print(\"{0} is {1}, and she is a good student\".format(name,age))\n",
    "    \n",
    "\n",
    "reg(\"ada\",18)\n",
    "reg(\"mimi\", 18, \"female\")"
   ]
  },
  {
   "cell_type": "markdown",
   "metadata": {},
   "source": [
    "## 关键字参数\n",
    "- 语法\n",
    "\n",
    "```python\n",
    "    def func(p1=v1, p2=v2.....):\n",
    "        func_boby\n",
    "     \n",
    "    # 调用函数：\n",
    "    func(p1=value1, p2=value2....)\n",
    "```\n",
    "- 比较麻烦，但也有好处:\n",
    "    - 不容易混淆,一般是实参和形参只是按照位置一一对应即可，容易出错\n",
    "    - 使用关键字参数，可以不考虑参数位置"
   ]
  },
  {
   "cell_type": "code",
   "execution_count": 67,
   "metadata": {},
   "outputs": [
    {
     "ename": "TypeError",
     "evalue": "normal_para() missing 1 required positional argument: 'three'",
     "output_type": "error",
     "traceback": [
      "\u001b[0;31m---------------------------------------------------------------------------\u001b[0m",
      "\u001b[0;31mTypeError\u001b[0m                                 Traceback (most recent call last)",
      "\u001b[0;32m<ipython-input-67-fbd2151e315a>\u001b[0m in \u001b[0;36m<module>\u001b[0;34m()\u001b[0m\n\u001b[1;32m      5\u001b[0m     \u001b[0;32mreturn\u001b[0m \u001b[0;32mNone\u001b[0m\u001b[0;34m\u001b[0m\u001b[0m\n\u001b[1;32m      6\u001b[0m \u001b[0;34m\u001b[0m\u001b[0m\n\u001b[0;32m----> 7\u001b[0;31m \u001b[0mnormal_para\u001b[0m\u001b[0;34m(\u001b[0m\u001b[0;36m1\u001b[0m\u001b[0;34m,\u001b[0m\u001b[0;36m2\u001b[0m\u001b[0;34m)\u001b[0m\u001b[0;34m\u001b[0m\u001b[0m\n\u001b[0m",
      "\u001b[0;31mTypeError\u001b[0m: normal_para() missing 1 required positional argument: 'three'"
     ]
    }
   ],
   "source": [
    "# 普通参数案例\n",
    "\n",
    "def normal_para(one, two, three):\n",
    "    print(one + two)\n",
    "    return None\n",
    "\n",
    "normal_para(1,2)"
   ]
  },
  {
   "cell_type": "code",
   "execution_count": 73,
   "metadata": {},
   "outputs": [
    {
     "name": "stdout",
     "output_type": "stream",
     "text": [
      "3\n",
      "100\n",
      "3\n",
      "3\n"
     ]
    }
   ],
   "source": [
    "# 默认参数案例\n",
    "\n",
    "def default_para(one, two, three=100):\n",
    "    print(one + two)\n",
    "    print(three)\n",
    "    return None\n",
    "\n",
    "default_para(1,2)\n",
    "default_para(1,2,3)"
   ]
  },
  {
   "cell_type": "code",
   "execution_count": 75,
   "metadata": {},
   "outputs": [
    {
     "name": "stdout",
     "output_type": "stream",
     "text": [
      "3\n",
      "4\n"
     ]
    }
   ],
   "source": [
    "# 关键字参数\n",
    "\n",
    "def keys_para(one, two, three):\n",
    "    print(one + three)\n",
    "    print(two)\n",
    "    return None\n",
    "\n",
    "keys_para(three=2,one=1,two=4)"
   ]
  },
  {
   "cell_type": "code",
   "execution_count": 12,
   "metadata": {},
   "outputs": [
    {
     "name": "stdout",
     "output_type": "stream",
     "text": [
      "I am a student\n",
      "我叫18, 我今年jingjing岁了,我住你家\n",
      "I am a student\n",
      "我叫jingjing, 我今年18岁了,我住你家\n"
     ]
    }
   ],
   "source": [
    "# 关键字参数案例\n",
    "def stu(name, age, addr):\n",
    "    print(\"I am a student\")\n",
    "    print(\"我叫{0}, 我今年{1}岁了,我住{2}\".format(name,age,addr))\n",
    "    \n",
    "n = \"jingjing\"\n",
    "a = 18\n",
    "addr = \"你家\"\n",
    "\n",
    "# 普通参数，只按照位置传递，容易出错\n",
    "stu(a, n, addr)\n",
    "\n",
    "def stu_key(name=\"No name\", age=0, addr=\"No addr\"):\n",
    "    print(\"I am a student\")\n",
    "    print(\"我叫{0}, 我今年{1}岁了,我住{2}\".format(name,age,addr))\n",
    "    \n",
    "n = \"jingjing\"\n",
    "a = 18\n",
    "addr = \"你家\"\n",
    "\n",
    "stu_key(name=n, age=a,addr=addr)"
   ]
  },
  {
   "cell_type": "markdown",
   "metadata": {
    "collapsed": true
   },
   "source": [
    "## 收集参数\n",
    "- 把没有位置，不能喝定义是的参数位置相对的参数，放入一个特定的数据结构中\n",
    "- 语法\n",
    "```python\n",
    "    def func(*args):\n",
    "        func_body\n",
    "        # 按照list使用方式访问args得到传入的参数\n",
    "        \n",
    "    #调用\n",
    "    func(p1,p2,p3...)\n",
    "```\n",
    "- 参数名args不是必须这么写，但是，我们推荐直接用args.约定俗成\n",
    "- 参数名args前需要有星号\n",
    "- 收集参数可以和其他参数共存"
   ]
  },
  {
   "cell_type": "code",
   "execution_count": 15,
   "metadata": {},
   "outputs": [
    {
     "name": "stdout",
     "output_type": "stream",
     "text": [
      "Hello,大家好，我自我介绍一下，简单说两句:\n",
      "<class 'tuple'>\n",
      "dave\n",
      "18\n",
      "大北京\n",
      "wangxiaojing\n",
      "single\n",
      "********************\n",
      "Hello,大家好，我自我介绍一下，简单说两句:\n",
      "<class 'tuple'>\n",
      "dada\n"
     ]
    }
   ],
   "source": [
    "# 收集参数代码\n",
    "# 函数模拟一个学生进行自我介绍，但具体内容不清楚\n",
    "# args把他看做一个list\n",
    "def stu(*args):\n",
    "    print(\"Hello,大家好，我自我介绍一下，简单说两句:\")\n",
    "    # type函数作用是检测变量的类型\n",
    "    print(type(args))\n",
    "    for item in args:\n",
    "        print(item)\n",
    "    \n",
    "stu(\"dave\", 18, \"大北京\", \"wangxiaojing\", \"single\")\n",
    "print(\"*\"*20)\n",
    "stu(\"dada\")"
   ]
  },
  {
   "cell_type": "code",
   "execution_count": 16,
   "metadata": {},
   "outputs": [
    {
     "name": "stdout",
     "output_type": "stream",
     "text": [
      "Hello,大家好，我自我介绍一下，简单说两句:\n",
      "<class 'tuple'>\n"
     ]
    }
   ],
   "source": [
    "# 收集参数案列\n",
    "# 说明收集参数可以不带任何实参调用，此时收集参数为空tuple\n",
    "stu()"
   ]
  },
  {
   "cell_type": "code",
   "execution_count": 17,
   "metadata": {},
   "outputs": [
    {
     "ename": "TypeError",
     "evalue": "stu() got an unexpected keyword argument 'name'",
     "output_type": "error",
     "traceback": [
      "\u001b[1;31m---------------------------------------------------------------------------\u001b[0m",
      "\u001b[1;31mTypeError\u001b[0m                                 Traceback (most recent call last)",
      "\u001b[1;32m<ipython-input-17-664d73d57c77>\u001b[0m in \u001b[0;36m<module>\u001b[1;34m()\u001b[0m\n\u001b[0;32m      1\u001b[0m \u001b[1;31m# 如果使用关键字参数格式调用，会出现问题\u001b[0m\u001b[1;33m\u001b[0m\u001b[1;33m\u001b[0m\u001b[0m\n\u001b[1;32m----> 2\u001b[1;33m \u001b[0mstu\u001b[0m\u001b[1;33m(\u001b[0m\u001b[0mname\u001b[0m\u001b[1;33m=\u001b[0m\u001b[1;34m\"dave\"\u001b[0m\u001b[1;33m)\u001b[0m\u001b[1;33m\u001b[0m\u001b[0m\n\u001b[0m",
      "\u001b[1;31mTypeError\u001b[0m: stu() got an unexpected keyword argument 'name'"
     ]
    }
   ],
   "source": [
    "# 如果使用关键字参数格式调用，会出现问题\n",
    "stu(name=\"dave\")"
   ]
  },
  {
   "cell_type": "markdown",
   "metadata": {},
   "source": [
    "### 收集参数之关键字收集参数\n",
    "- 把关键字参数按字典格式存入收集参数\n",
    "- 语法:\n",
    "```python\n",
    "    def func(**kwargs):\n",
    "        func_body\n",
    "    \n",
    "    # 调用\n",
    "    func(p1=v1, p2=v2, p3=v3...)\n",
    "```\n",
    "\n",
    "- kwargs一般约定俗成\n",
    "- 调用的时候，吧多余的关键字参数放入kwargs\n",
    "- 访问kwargs需要按字典格式访问"
   ]
  },
  {
   "cell_type": "code",
   "execution_count": 25,
   "metadata": {},
   "outputs": [
    {
     "name": "stdout",
     "output_type": "stream",
     "text": [
      "Hello,大家好，我自我介绍一下，简单说两句:\n",
      "<class 'dict'>\n",
      "name - - - dave\n",
      "age - - - 18\n",
      "addr - - - 大北京\n",
      "lover - - - wangxiaojing\n",
      "work - - - Teacher\n",
      "**************************************************\n",
      "Hello,大家好，我自我介绍一下，简单说两句:\n",
      "<class 'dict'>\n",
      "age - - - 19\n"
     ]
    }
   ],
   "source": [
    "# 收集参数案例\n",
    "# 自我介绍\n",
    "# 调用的时候需要使用关键字参数调用\n",
    "def stu(**kwargs):\n",
    "    print(\"Hello,大家好，我自我介绍一下，简单说两句:\")\n",
    "    print(type(kwargs))\n",
    "    for k,v in kwargs.items():\n",
    "        print(k,\"- - -\",v)\n",
    "stu(name=\"dave\", age=18, addr=\"大北京\", lover=\"wangxiaojing\", work=\"Teacher\")\n",
    "print(\"*\"*50)\n",
    "stu(age=19)"
   ]
  },
  {
   "cell_type": "code",
   "execution_count": 27,
   "metadata": {},
   "outputs": [
    {
     "name": "stdout",
     "output_type": "stream",
     "text": [
      "Hello,大家好，我自我介绍一下，简单说两句:\n",
      "<class 'dict'>\n"
     ]
    }
   ],
   "source": [
    "# 关键字收集参数为空案例\n",
    "stu()"
   ]
  },
  {
   "cell_type": "markdown",
   "metadata": {},
   "source": [
    "### 收集参数混合调用的顺序问题\n",
    "- 收集参数，关键字参数，普通参数可以混合使用\n",
    "- 使用规则就是，普通参数和关键字参数优先\n",
    "- 定义的时候一般按普通参数，关键字参数，收集参数tuple，关键字收集参数dict."
   ]
  },
  {
   "cell_type": "code",
   "execution_count": 37,
   "metadata": {},
   "outputs": [
    {
     "name": "stdout",
     "output_type": "stream",
     "text": [
      "Hello,大家好\n",
      "我叫dada,我今年18大了.\n",
      "我没有爱好\n",
      "********************\n",
      "Hello,大家好\n",
      "我叫dada,我今年18大了.\n",
      "我的爱好是游戏\n",
      "********************\n",
      "Hello,大家好\n",
      "我叫dada,我今年18大了.\n",
      "我的爱好是游戏\n",
      "********************\n",
      "dada\n",
      "mIMI\n",
      "hobby2 --- 运动\n",
      "hobby3 --- 赤岭\n"
     ]
    }
   ],
   "source": [
    "# 收集参数混合调用案例\n",
    "# stu模拟一个学生的自我介绍\n",
    "def stu(name, age, *args, hobby=\"没有\", **kwargs):\n",
    "    print(\"Hello,大家好\")\n",
    "    print(\"我叫{0},我今年{1}大了.\".format(name,age))\n",
    "    if hobby == \"没有\":\n",
    "        print(\"我没有爱好\")\n",
    "    else:\n",
    "        print(\"我的爱好是{0}\".format(hobby))\n",
    "    \n",
    "    print(\"*\"*20)\n",
    "    \n",
    "    for i in args:\n",
    "        print(i)\n",
    "        \n",
    "    for k,v in kwargs.items():\n",
    "        print(k,\"---\", v)\n",
    "        \n",
    "# 开始调用函数\n",
    "name = \"dada\"\n",
    "age = 18\n",
    "stu(name,age)\n",
    "\n",
    "stu(name, age, hobby=\"游戏\")\n",
    "\n",
    "stu(name, age, \"dada\", \"mIMI\", hobby=\"游戏\", hobby2=\"运动\", hobby3=\"赤岭\")"
   ]
  },
  {
   "cell_type": "markdown",
   "metadata": {},
   "source": [
    "### 收集参数的解包问题\n",
    "- 把参数放入list中，或者字典中，直接把list/dict的值放入收集参数中\n",
    "- 语法：参看案列"
   ]
  },
  {
   "cell_type": "code",
   "execution_count": 45,
   "metadata": {},
   "outputs": [
    {
     "name": "stdout",
     "output_type": "stream",
     "text": [
      "哈哈哈\n",
      "<class 'str'>\n",
      "0\n",
      "dada\n",
      "<class 'str'>\n",
      "1\n",
      "dadad\n",
      "<class 'int'>\n",
      "2\n",
      "18\n",
      "<class 'int'>\n",
      "3\n",
      "200\n"
     ]
    }
   ],
   "source": [
    "# 收集参数的解包问题\n",
    "def stu(*args):\n",
    "    print(\"哈哈哈\")\n",
    "    # n 用来表示循环次数\n",
    "    n = 0\n",
    "    for i in args:\n",
    "        print(type(i))\n",
    "        print(n)\n",
    "        n += 1\n",
    "        print(i)\n",
    "        \n",
    "        \n",
    "#stu(\"dada\", \"dadad\", 18,200)\n",
    "\n",
    "l = [\"dada\", \"dadad\", 18,200]\n",
    "\n",
    "#  此时，args的表示形式是tuple内一个list类型的元素，即args = ([\"dada\", \"dadad\", 18,200],)\n",
    "#  此时的调用，我们就需要解包符号，即调用的时候前面加一个型号\n",
    "stu(*l)"
   ]
  },
  {
   "cell_type": "markdown",
   "metadata": {},
   "source": [
    "### 同理，dict类型收集参数一样可以解包\n",
    "- 对dict类型进行解包\n",
    "- 需要用两个型号进行解包"
   ]
  },
  {
   "cell_type": "markdown",
   "metadata": {},
   "source": [
    "# 返回值\n",
    "- 函数和过程的区别\n",
    "    - 有无返回值\n",
    "- 需要用return显示返回内容\n",
    "- 如果没有返回，则默认返回None\n",
    "- 推荐写法，无论有无返回值，最后都要以return结束"
   ]
  },
  {
   "cell_type": "code",
   "execution_count": 46,
   "metadata": {},
   "outputs": [
    {
     "name": "stdout",
     "output_type": "stream",
     "text": [
      "有返回值\n",
      "1\n",
      "没有返回值\n",
      "None\n"
     ]
    }
   ],
   "source": [
    "# 返回值实例\n",
    "\n",
    "def func_1():\n",
    "    print(\"有返回值\")\n",
    "    return 1\n",
    "\n",
    "def func_2():\n",
    "    print(\"没有返回值\")\n",
    "    \n",
    "    \n",
    "f1 = func_1()\n",
    "print(f1)\n",
    "f2 = func_2()\n",
    "print(f2)"
   ]
  },
  {
   "cell_type": "markdown",
   "metadata": {},
   "source": [
    "# 函数文档\n",
    "- 函数的文档的作用是对当前函数提供使用相关的参看信息\n",
    "- 文档的写法:\n",
    "    - 在函数内部开始的第一行使用三字符串定义符\n",
    "    - 一般具有特定格式\n",
    "    - 参看案例\n",
    "- 文档查看\n",
    "    - 使用help函数，形如help(func)\n",
    "    - 使用__doc__,参看案例"
   ]
  },
  {
   "cell_type": "code",
   "execution_count": 47,
   "metadata": {},
   "outputs": [],
   "source": [
    "# 文档查看\n",
    "# 函数stu是模拟一个学生的自我介绍的内容\n",
    "def stu(name, age, *args):\n",
    "    '''这是文档'''\n",
    "    print(\"This is hanshu stu\")"
   ]
  },
  {
   "cell_type": "code",
   "execution_count": 48,
   "metadata": {},
   "outputs": [
    {
     "name": "stdout",
     "output_type": "stream",
     "text": [
      "Help on function stu in module __main__:\n",
      "\n",
      "stu(name, age, *args)\n",
      "    这是文档\n",
      "\n"
     ]
    },
    {
     "data": {
      "text/plain": [
       "'这是文档'"
      ]
     },
     "execution_count": 48,
     "metadata": {},
     "output_type": "execute_result"
    }
   ],
   "source": [
    "# 查看函数文档\n",
    "help(stu)\n",
    "stu.__doc__"
   ]
  }
 ],
 "metadata": {
  "kernelspec": {
   "display_name": "Python 3",
   "language": "python",
   "name": "python3"
  },
  "language_info": {
   "codemirror_mode": {
    "name": "ipython",
    "version": 3
   },
   "file_extension": ".py",
   "mimetype": "text/x-python",
   "name": "python",
   "nbconvert_exporter": "python",
   "pygments_lexer": "ipython3",
   "version": "3.7.0"
  }
 },
 "nbformat": 4,
 "nbformat_minor": 2
}
