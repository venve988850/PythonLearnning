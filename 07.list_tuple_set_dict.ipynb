{
 "cells": [
  {
   "cell_type": "markdown",
   "metadata": {},
   "source": [
    "# list列表\n",
    "- Python中的内置类型\n",
    "    - str\n",
    "    - list\n",
    "    - tuple\n",
    "    - set\n",
    "    - dict\n",
    "- 一组有由有序数据做成的序列\n",
    "    - 数据就有先后顺序\n",
    "    - 数据可以不是一类数据\n",
    "- list的创建\n",
    "    - 直接创建，用中括号创建，内容直接用英文逗号隔开\n",
    "    - 使用list创建\n",
    "    - 列表包含单个字符串是"
   ]
  },
  {
   "cell_type": "code",
   "execution_count": 2,
   "metadata": {},
   "outputs": [
    {
     "name": "stdout",
     "output_type": "stream",
     "text": [
      "[1, 2, 3, 4, 5]\n",
      "[1, 2, 3, 'xiaojing', '大拿']\n"
     ]
    }
   ],
   "source": [
    "# 直接赋值创建列表\n",
    "L1 = [1,2,3,4,5]\n",
    "# list内的数据可以不是一个类型\n",
    "L2 = [1,2,3,\"xiaojing\",\"大拿\"]\n",
    "\n",
    "print(L1)\n",
    "print(L2)"
   ]
  },
  {
   "cell_type": "code",
   "execution_count": 4,
   "metadata": {},
   "outputs": [
    {
     "name": "stdout",
     "output_type": "stream",
     "text": [
      "[]\n",
      "<class 'list'>\n"
     ]
    }
   ],
   "source": [
    "# 创建列表的第二种方式\n",
    "L3 = list()\n",
    "print(L3)\n",
    "print(type(L3))"
   ]
  },
  {
   "cell_type": "markdown",
   "metadata": {},
   "source": [
    "# 内置函数的概念\n",
    "- help:帮助函数\n",
    "- type:显示变量的类型\n",
    "- id: 显示变量的id\n",
    "- print：打印"
   ]
  },
  {
   "cell_type": "code",
   "execution_count": 7,
   "metadata": {},
   "outputs": [
    {
     "name": "stdout",
     "output_type": "stream",
     "text": [
      "<class 'list'>\n",
      "['A', 'p', 'p', 'l', 'e']\n"
     ]
    }
   ],
   "source": [
    "# list创建的特例演示\n",
    "\n",
    "s = \"Apple\"\n",
    "\n",
    "# 想创建一个只包含s一个字符串的列表\n",
    "L1 =list(s)\n",
    "# 此种情况用L1=p[s]创建\n",
    "print(type(L1))\n",
    "print(L1)"
   ]
  },
  {
   "cell_type": "markdown",
   "metadata": {},
   "source": [
    "# 列表的常见操作\n",
    "- 访问\n",
    "    - 使用下标操作，也叫索引\n",
    "    - 列表的元素索引是从0开始\n",
    "- 切片操作\n",
    "    - 对列表进行任意一段的截取\n",
    "    - 截取之后创建了一个新的列表\n",
    "- 添加\n",
    "    - append()\n",
    "        - 在列表末尾添加一个元素。\n",
    "        - 可以是任意类型\n",
    "    - extend()\n",
    "        - 在列表末尾添加一个可迭代对象。\n",
    "        - 只能是列表、元素、集合、字典、字符串等可迭代对象\n",
    "    - insert()\n",
    "        - 在列表指定位置插入元素\n",
    "        - index参数从0开始\n",
    "        \n",
    "    "
   ]
  },
  {
   "cell_type": "code",
   "execution_count": 8,
   "metadata": {},
   "outputs": [
    {
     "name": "stdout",
     "output_type": "stream",
     "text": [
      "32\n"
     ]
    }
   ],
   "source": [
    "L1 = [32,43,22,354,323,4]\n",
    "# 使用下标访问\n",
    "# 记住IndexError引发的原因\n",
    "print(L1[0])"
   ]
  },
  {
   "cell_type": "code",
   "execution_count": 18,
   "metadata": {},
   "outputs": [
    {
     "name": "stdout",
     "output_type": "stream",
     "text": [
      "[2, 3, 4, 5, 6]\n",
      "1610681459208\n",
      "1610672641288\n",
      "[1, 2, 3, 4]\n",
      "[3, 4, 5, 6, 7, 8, 9, 10]\n",
      "[1, 2, 3, 4, 5, 6, 7, 8, 9, 10]\n"
     ]
    }
   ],
   "source": [
    "# 切片操作需要注意取值范围，左包括右不包括\n",
    "L1 = [1,2,3,4,5,6,7,8,9,10]\n",
    "# 对比打印结果跟下标的值\n",
    "print(L1[1:6])\n",
    "\n",
    "# 下面案列说明切片之后生成的一个全新的列表\n",
    "# 通过内置函数id可以判断出切片是否生成了全新的列表\n",
    "# id的作用是用来判断两个变量是否是一个变量\n",
    "print(id(L1))\n",
    "print(id(L1[0:10]))\n",
    "\n",
    "# 切片下表可以为空\n",
    "print(L1[:4])\n",
    "print(L1[2:])\n",
    "print(L1[:])"
   ]
  },
  {
   "cell_type": "code",
   "execution_count": 24,
   "metadata": {},
   "outputs": [
    {
     "name": "stdout",
     "output_type": "stream",
     "text": [
      "[1, 2, 3, 4, 5, 6, 7, 8, 9, 10]\n",
      "[1, 3, 5, 7, 9]\n"
     ]
    }
   ],
   "source": [
    "# 分片可以控制增长幅度，默认增长幅度为1\n",
    "print(L1[::1])# 等于print(L1[:])\n",
    "print(L1[::2])"
   ]
  },
  {
   "cell_type": "code",
   "execution_count": 26,
   "metadata": {},
   "outputs": [
    {
     "name": "stdout",
     "output_type": "stream",
     "text": [
      "[1, 2, 3, 4, 5, 6, 7, 8, 9, 10]\n"
     ]
    }
   ],
   "source": [
    "# 下标可以超出范围，超出后不再考虑多余小标内容\n",
    "print(L1[:100])"
   ]
  },
  {
   "cell_type": "code",
   "execution_count": 52,
   "metadata": {},
   "outputs": [
    {
     "name": "stdout",
     "output_type": "stream",
     "text": [
      "[]\n",
      "[9, 8, 7]\n",
      "[7, 8, 9]\n"
     ]
    }
   ],
   "source": [
    "# 下标值，增长幅度可以为负数\n",
    "# 下标为负数，表明顺序从右往左\n",
    "# 规定：数组最后一个数字的下标是-1\n",
    "\n",
    "#  下面例子为空，因为默认是从左向右移动\n",
    "print(L1[-2:-5])\n",
    "# 如果我想利用负数下标打印 9。8 ，7 则\n",
    "print(L1[-2:-5:-1])\n",
    "# 如果我想利用负数下标打印 7, 8, 9 则\n",
    "print(L1[-4:-1])"
   ]
  },
  {
   "cell_type": "code",
   "execution_count": 54,
   "metadata": {},
   "outputs": [
    {
     "name": "stdout",
     "output_type": "stream",
     "text": [
      "[100, 2, 3, 4, 5, 6, 7, 8, 9, 10]\n"
     ]
    }
   ],
   "source": [
    "# list元素的更改\n",
    "L1[0] = 100\n",
    "print(L1)"
   ]
  },
  {
   "cell_type": "code",
   "execution_count": 57,
   "metadata": {},
   "outputs": [
    {
     "name": "stdout",
     "output_type": "stream",
     "text": [
      "[100, 2, 3, 4, 5, 6, 7, 8, 9, 10, 20, 30, 40, 50]\n",
      "[20, 30, 40, 50, 20, 30, 40, 50]\n"
     ]
    }
   ],
   "source": [
    "# list的运算\n",
    "# list相加\n",
    "L2 = [20,30,40,50]\n",
    "L3 = L1 + L2\n",
    "print(L3)\n",
    "#list乘法\n",
    "L4 = L2 * 2\n",
    "print(L4)"
   ]
  },
  {
   "cell_type": "code",
   "execution_count": 117,
   "metadata": {},
   "outputs": [
    {
     "name": "stdout",
     "output_type": "stream",
     "text": [
      "[0, 1, 4, 9, 16, 25, 36, 49, 64, 81, 100]\n",
      "['AX', 'AY', 'AZ', 'BX', 'BY', 'BZ', 'CX', 'CY', 'CZ']\n"
     ]
    }
   ],
   "source": [
    "# 列表生成式\n",
    "L2 = [i * i for i in range(0,11)]\n",
    "print(L2)\n",
    "\n",
    "#两层循环\n",
    "L3 = [m + n for m in \"ABC\" for n in \"XYZ\"]\n",
    "print(L3)"
   ]
  },
  {
   "cell_type": "code",
   "execution_count": 17,
   "metadata": {},
   "outputs": [
    {
     "name": "stdout",
     "output_type": "stream",
     "text": [
      "[1, 2, 3, 4, 5, 6, [9, 54]]\n",
      "[1, 2, 3, 4, 5, 6, [9, 54], 8]\n",
      "[1, 2, 3, 4, 5, 6, [9, 54], 8, None]\n",
      "[1, 2, 3, 4, 5, 6, [9, 54], 8, None, 9, 54]\n",
      "[1, 2, 3, 4, 5, 6, [9, 54], 8, None, 9, 54, 'a', 's', 'd', 'd']\n",
      "[100, 1, 2, 3, 4, 5, 6, [9, 54], 8, None, 9, 54, 'a', 's', 'd', 'd']\n"
     ]
    }
   ],
   "source": [
    "# append和extend、insert案列\n",
    "L =[1,2,3,4,5,6]\n",
    "L.append([9,54]) # 添加列表，append会将列表当做元素添加\n",
    "print(L)\n",
    "L.append(8)\n",
    "print(L)\n",
    "L.append(None)\n",
    "print(L)\n",
    "L.extend([9,54]) # 添加一个列表和 和append不用\n",
    "print(L)\n",
    "# L.extend(5)  会报错\n",
    "#print(L)\n",
    "L.extend(\"asdd\") # 添加字符会被拆分\n",
    "print(L)\n",
    "L.insert(0,100)\n",
    "print(L)"
   ]
  },
  {
   "cell_type": "code",
   "execution_count": 19,
   "metadata": {},
   "outputs": [
    {
     "name": "stdout",
     "output_type": "stream",
     "text": [
      "[1, 2, 3, 4, 5]\n",
      "1811448491016\n",
      "1811448490760\n"
     ]
    }
   ],
   "source": [
    "# copy() 复制列表\n",
    "list1 = [1,2,3,4,5]\n",
    "list2 = list1.copy()\n",
    "print(list2)\n",
    "print(id(list1))\n",
    "print(id(list2))"
   ]
  },
  {
   "cell_type": "code",
   "execution_count": 20,
   "metadata": {},
   "outputs": [
    {
     "name": "stdout",
     "output_type": "stream",
     "text": [
      "3\n"
     ]
    }
   ],
   "source": [
    "# count() 计算某个元素在列表中出现的次数\n",
    "list1 = [1,1,2,3,4,5,1,2,3]\n",
    "print(list1.count(1))"
   ]
  },
  {
   "cell_type": "code",
   "execution_count": 22,
   "metadata": {},
   "outputs": [
    {
     "name": "stdout",
     "output_type": "stream",
     "text": [
      "2\n",
      "6\n"
     ]
    }
   ],
   "source": [
    "# index() 获取值在列表中的索引\n",
    "list1 = [1,2,3,4,5,6,3,4,5]\n",
    "print(list1.index(3))\n",
    "print(list1.index(3,3,8))"
   ]
  },
  {
   "cell_type": "code",
   "execution_count": 33,
   "metadata": {},
   "outputs": [
    {
     "name": "stdout",
     "output_type": "stream",
     "text": [
      "[1, 2, 3, 4]\n",
      "4\n",
      "[1, 2, 3]\n",
      "3\n",
      "[1, 2]\n",
      "2\n",
      "[1]\n",
      "1\n",
      "[]\n"
     ]
    },
    {
     "ename": "IndexError",
     "evalue": "pop from empty list",
     "output_type": "error",
     "traceback": [
      "\u001b[1;31m---------------------------------------------------------------------------\u001b[0m",
      "\u001b[1;31mIndexError\u001b[0m                                Traceback (most recent call last)",
      "\u001b[1;32m<ipython-input-33-6830bd26e9ff>\u001b[0m in \u001b[0;36m<module>\u001b[1;34m()\u001b[0m\n\u001b[0;32m     11\u001b[0m \u001b[0mprint\u001b[0m\u001b[1;33m(\u001b[0m\u001b[0mlist1\u001b[0m\u001b[1;33m.\u001b[0m\u001b[0mpop\u001b[0m\u001b[1;33m(\u001b[0m\u001b[1;33m)\u001b[0m\u001b[1;33m)\u001b[0m\u001b[1;33m\u001b[0m\u001b[0m\n\u001b[0;32m     12\u001b[0m \u001b[0mprint\u001b[0m\u001b[1;33m(\u001b[0m\u001b[0mlist1\u001b[0m\u001b[1;33m)\u001b[0m\u001b[1;33m\u001b[0m\u001b[0m\n\u001b[1;32m---> 13\u001b[1;33m \u001b[0mprint\u001b[0m\u001b[1;33m(\u001b[0m\u001b[0mlist1\u001b[0m\u001b[1;33m.\u001b[0m\u001b[0mpop\u001b[0m\u001b[1;33m(\u001b[0m\u001b[1;33m)\u001b[0m\u001b[1;33m)\u001b[0m\u001b[1;33m\u001b[0m\u001b[0m\n\u001b[0m",
      "\u001b[1;31mIndexError\u001b[0m: pop from empty list"
     ]
    }
   ],
   "source": [
    "# pop() 根据索引移除列表内的一个元素，不给索引默认删除最后一个，返回移除那个值\n",
    "list1 = [1,2,3,4,5]\n",
    "list1.pop()\n",
    "print(list1)\n",
    "print(list1.pop())\n",
    "print(list1)\n",
    "print(list1.pop())\n",
    "print(list1)\n",
    "print(list1.pop())\n",
    "print(list1)\n",
    "print(list1.pop())\n",
    "print(list1)\n",
    "print(list1.pop())"
   ]
  },
  {
   "cell_type": "code",
   "execution_count": 35,
   "metadata": {},
   "outputs": [
    {
     "name": "stdout",
     "output_type": "stream",
     "text": [
      "None\n",
      "['a', 'c', 'd']\n"
     ]
    }
   ],
   "source": [
    "# remove() 移除列表指定的值，返回None\n",
    "list1 = [\"a\",\"b\",\"c\",\"d\"]\n",
    "print(list1.remove(\"b\"))\n",
    "print(list1)"
   ]
  },
  {
   "cell_type": "code",
   "execution_count": 36,
   "metadata": {},
   "outputs": [
    {
     "name": "stdout",
     "output_type": "stream",
     "text": [
      "1811448360648\n",
      "1811448360648\n",
      "[4, 3, 2, 1]\n"
     ]
    }
   ],
   "source": [
    "# reverse() 列表反转\n",
    "list1 = [1,2,3,4]\n",
    "print(id(list1))\n",
    "list1.reverse()\n",
    "print(id(list1))\n",
    "print(list1)"
   ]
  },
  {
   "cell_type": "code",
   "execution_count": 39,
   "metadata": {},
   "outputs": [
    {
     "name": "stdout",
     "output_type": "stream",
     "text": [
      "[1, 2, 3, 4, 4, 4, 4, 5, 5, 5, 6]\n",
      "[6, 5, 5, 5, 4, 4, 4, 4, 3, 2, 1]\n"
     ]
    }
   ],
   "source": [
    "# sort() 排序 默认从小到大\n",
    "list1 = [4,2,1,4,5,3,4,5,6,4,5]\n",
    "list1.sort()\n",
    "print(list1)\n",
    "\n",
    "# 从大到小\n",
    "list1.sort(reverse=True)\n",
    "print(list1)"
   ]
  },
  {
   "cell_type": "markdown",
   "metadata": {},
   "source": [
    "# tuple（元组）\n",
    "- 可以理解成一个不允许更改的列表"
   ]
  },
  {
   "cell_type": "code",
   "execution_count": 46,
   "metadata": {},
   "outputs": [
    {
     "name": "stdout",
     "output_type": "stream",
     "text": [
      "<class 'tuple'>\n",
      "<class 'int'>\n",
      "<class 'tuple'>\n",
      "<class 'tuple'>\n",
      "<class 'tuple'>\n",
      "<class 'tuple'>\n",
      "<class 'tuple'>\n",
      "(1, 2, 3, 'wangxiaojing')\n",
      "[1, 2, 3, 'wangxiaojing']\n"
     ]
    }
   ],
   "source": [
    "# 突破了的创建\n",
    "\n",
    "#1 1. 直接用小括号\n",
    "ta = ()\n",
    "print(type(ta))\n",
    "# 当用小括号创建一个元素的tuple的时候\n",
    "tb = (100)\n",
    "print(type(tb))\n",
    "tc =(100,)\n",
    "print(type(tc))\n",
    "td =(100,200,300)\n",
    "print(type(td))\n",
    "\n",
    "# 2. 直接用逗号\n",
    "ta = 100,\n",
    "print(type(ta))\n",
    "tb = 100, 200, 300, # 后面可以跟逗号\n",
    "print(type(tb))\n",
    "\n",
    "# 3. 使用tuple定义\n",
    "# 要求tuple的参数必须可迭代\n",
    "ta =tuple()\n",
    "print(type(ta))\n",
    "li = [1,2,3,\"wangxiaojing\"]\n",
    "tb = tuple(li)\n",
    "print(tb)\n",
    "print(li)"
   ]
  },
  {
   "cell_type": "markdown",
   "metadata": {},
   "source": [
    "### tuple其余特征跟list基本一致\n",
    "- 有序\n",
    "- 可以访问不可以被修改\n",
    "- 元素可以是任意类型"
   ]
  },
  {
   "cell_type": "code",
   "execution_count": 48,
   "metadata": {},
   "outputs": [
    {
     "name": "stdout",
     "output_type": "stream",
     "text": [
      "['i', 'love', 'wang xiaojing']\n",
      "wang xiaojing\n"
     ]
    }
   ],
   "source": [
    "#tuple索引操作\n",
    "la = [\"i\",\"love\",\"wang xiaojing\"]\n",
    "print(la)\n",
    "ta =tuple(la)\n",
    "print(ta[2])"
   ]
  },
  {
   "cell_type": "code",
   "execution_count": 60,
   "metadata": {},
   "outputs": [
    {
     "name": "stdout",
     "output_type": "stream",
     "text": [
      "('i', 'love', 'wang xiaojing')\n",
      "('i', 'love')\n",
      "('wang xiaojing', 'love', 'i')\n"
     ]
    }
   ],
   "source": [
    "# tuple分片操作\n",
    "print(ta[:])\n",
    "print(ta[:2])\n",
    "print(ta[-1::-1])"
   ]
  },
  {
   "cell_type": "code",
   "execution_count": 67,
   "metadata": {},
   "outputs": [
    {
     "name": "stdout",
     "output_type": "stream",
     "text": [
      "(100, 200, 300, 'i', 'love', 'wangxiaojing')\n"
     ]
    }
   ],
   "source": [
    "# tuple的相加\n",
    "ta = 100,200,300\n",
    "tb = (\"i\",\"love\",\"wangxiaojing\")\n",
    "tc = ta + tb\n",
    "print(tc)"
   ]
  },
  {
   "cell_type": "code",
   "execution_count": 64,
   "metadata": {},
   "outputs": [
    {
     "name": "stdout",
     "output_type": "stream",
     "text": [
      "('i', 'love', 'wangxiaojing ', 'i', 'love', 'wangxiaojing ')\n"
     ]
    }
   ],
   "source": [
    "# tuple乘法\n",
    " \n",
    "tc = tb * 2\n",
    "print(tc)"
   ]
  },
  {
   "cell_type": "code",
   "execution_count": 68,
   "metadata": {},
   "outputs": [
    {
     "name": "stdout",
     "output_type": "stream",
     "text": [
      "('i', 'love', 'wangxiaojing')\n",
      "对的\n"
     ]
    }
   ],
   "source": [
    "# tuple成员检测\n",
    "# 判断元素是否在tuple里\n",
    "print(tb)\n",
    "\n",
    "if \"wangxiaojing\" in tb:\n",
    "    print(\"对的\")\n",
    "\n",
    "if \"love\" not in tb:\n",
    "    print(\"hahaha\")"
   ]
  },
  {
   "cell_type": "code",
   "execution_count": 70,
   "metadata": {},
   "outputs": [
    {
     "name": "stdout",
     "output_type": "stream",
     "text": [
      "i\n",
      "love\n",
      "wangxiaojing\n"
     ]
    }
   ],
   "source": [
    "# 元组的遍历\n",
    "\n",
    "for i in tb:\n",
    "    print(i)"
   ]
  },
  {
   "cell_type": "code",
   "execution_count": 85,
   "metadata": {},
   "outputs": [
    {
     "name": "stdout",
     "output_type": "stream",
     "text": [
      "30\n",
      "(10, 20, 30)\n",
      "10\n",
      "20\n",
      "30\n",
      "('i', 'love', 'wangxiaojing')\n",
      "i\n",
      "love\n",
      "wangxiaojing\n",
      "(100, 200, 300)\n",
      "100\n",
      "200\n",
      "300\n",
      "10 20 30\n",
      "i love wangxiaojing\n",
      "100 200 300\n"
     ]
    }
   ],
   "source": [
    "ta = ((10, 20, 30),(\"i\", \"love\", \"wangxiaojing\"), (100, 200, 300))\n",
    "# 嵌套的元组访问\n",
    "print(ta[0][2])\n",
    "# 1. 双层循环访问\n",
    "for i in ta:\n",
    "    print(i)\n",
    "    for x in i:\n",
    "        print(x)\n",
    "\n",
    "# 2. 使用单层循环\n",
    "# 有一个规定，即i,j,k跟元组的元素要对应\n",
    "for i,j,k in ta:\n",
    "    print(i, j, k)\n",
    "    "
   ]
  },
  {
   "cell_type": "code",
   "execution_count": 91,
   "metadata": {},
   "outputs": [
    {
     "name": "stdout",
     "output_type": "stream",
     "text": [
      "12\n",
      "5\n"
     ]
    }
   ],
   "source": [
    "# 常用元组函数\n",
    "# len:长度\n",
    "print(len(ta))\n",
    "\n",
    "# max:最大值\n",
    "taa = (1,2,3,4,5)\n",
    "print(max(taa))"
   ]
  },
  {
   "cell_type": "code",
   "execution_count": 93,
   "metadata": {},
   "outputs": [
    {
     "name": "stdout",
     "output_type": "stream",
     "text": [
      "7\n",
      "0\n"
     ]
    }
   ],
   "source": [
    "# count:对某一元素计数\n",
    "ta = (1,2,3,4,5,6,1,1,1,1,1,1)\n",
    "print(ta.count(1))\n",
    "print(ta.index(1))"
   ]
  },
  {
   "cell_type": "code",
   "execution_count": 95,
   "metadata": {},
   "outputs": [
    {
     "name": "stdout",
     "output_type": "stream",
     "text": [
      "100 Apple\n",
      "Apple 100\n"
     ]
    }
   ],
   "source": [
    "# typle的特殊用法\n",
    "a = 100\n",
    "b = \"Apple\"\n",
    "# 要求对a,b值进行互换\n",
    "#  此种用法是python的独门秘籍\n",
    "print(a,b)\n",
    "a, b = b, a\n",
    "print(a,b)"
   ]
  },
  {
   "cell_type": "markdown",
   "metadata": {},
   "source": [
    "# set集合\n",
    "- 和数学中集合的概念一致\n",
    "- 内容无序 + 内容不重复"
   ]
  },
  {
   "cell_type": "code",
   "execution_count": 111,
   "metadata": {},
   "outputs": [
    {
     "name": "stdout",
     "output_type": "stream",
     "text": [
      "set()\n",
      "{3232, 1, 2, 3, 232, 23}\n",
      "{1, 2, 3, 4, 5, 6, 7, 3212, 111, 656565}\n"
     ]
    }
   ],
   "source": [
    "## 集合的定义\n",
    "\n",
    "# 1.通过set关键字\n",
    "sa = set()\n",
    "print(sa)\n",
    "\n",
    "li = [1,2,232,3,1,3,1,23,1,3232]\n",
    "sb = set(li)\n",
    "print(sb)\n",
    "\n",
    "# 2.使用大括号\n",
    "sc = {111,1,2,3,4,5,6,7,3212,2,1,2,3,4,656565}\n",
    "print(sc)"
   ]
  },
  {
   "cell_type": "code",
   "execution_count": 112,
   "metadata": {},
   "outputs": [
    {
     "name": "stdout",
     "output_type": "stream",
     "text": [
      "2222\n",
      "1\n",
      "2\n",
      "3\n",
      "4\n",
      "5\n",
      "6\n",
      "7\n",
      "3212\n",
      "111\n",
      "656565\n"
     ]
    }
   ],
   "source": [
    "# in 操作\n",
    "if 2 in sc:\n",
    "    print(2222)\n",
    "\n",
    "if 100 in sc:\n",
    "    print(444)\n",
    "    \n",
    "for i in sc:\n",
    "    print(i)"
   ]
  },
  {
   "cell_type": "code",
   "execution_count": 114,
   "metadata": {},
   "outputs": [
    {
     "name": "stdout",
     "output_type": "stream",
     "text": [
      "4 5 6\n",
      "i love wangxiaojing\n",
      "1 2 3\n"
     ]
    }
   ],
   "source": [
    "# 集合的另一种遍历\n",
    "\n",
    "sa = {(1,2,3),(4,5,6),(\"i\",\"love\",\"wangxiaojing\")}\n",
    "\n",
    "for i,j,k in sa:\n",
    "    print(i,j,k)"
   ]
  },
  {
   "cell_type": "code",
   "execution_count": 121,
   "metadata": {},
   "outputs": [
    {
     "name": "stdout",
     "output_type": "stream",
     "text": [
      "{1, 2, 3, 4, 5, 6, 7, 8, 9, 10}\n",
      "{2, 4, 6, 8, 10}\n",
      "{64, 1, 4, 36, 100, 9, 16, 49, 81, 25}\n",
      "{1, 2, 3, 4, 5, 6, 7, 8, 9, 10, 12, 14, 15, 16, 18, 20, 21, 24, 25, 27, 28, 30, 32, 35, 36, 40, 42, 45, 48, 49, 50, 54, 56, 60, 63, 64, 70, 72, 80, 81, 90, 100}\n"
     ]
    }
   ],
   "source": [
    "# 集合的生成式\n",
    "sa = {1,2,3,4,5,6,7,8,9,10}\n",
    "# 利用sa生成一个sb\n",
    "sb = {i for i in sa}\n",
    "print(sb)\n",
    "\n",
    "sc = {i for i in sa if i % 2 == 0}\n",
    "print(sc)\n",
    "\n",
    "# 双重for循环\n",
    "# 把sa中的每一个元素的平方生成一个新的集合\n",
    "# 1.用一个for\n",
    "sd = { i ** 2 for i in sa}\n",
    "print(sd)\n",
    "\n",
    "# 2.使用两个for\n",
    "se = {m * n for m in sa for n in sa}\n",
    "print(se)"
   ]
  },
  {
   "cell_type": "code",
   "execution_count": 123,
   "metadata": {},
   "outputs": [
    {
     "name": "stdout",
     "output_type": "stream",
     "text": [
      "42\n",
      "{1, 2, 3, 4, 5, 6}\n",
      "None\n",
      "{1, 2, 3, 4, 5, 6, 7}\n"
     ]
    }
   ],
   "source": [
    "# 集合的内置函数\n",
    "# len: 长度\n",
    "print(len(se))\n",
    "\n",
    "# max/min:最值\n",
    "# add:向集合中添加元素\n",
    "sa = {1,2,3,4,5,6,5,4,3,2,1}\n",
    "print(sa)\n",
    "print(sa.add(7))\n",
    "print(sa)"
   ]
  },
  {
   "cell_type": "code",
   "execution_count": 125,
   "metadata": {},
   "outputs": [
    {
     "name": "stdout",
     "output_type": "stream",
     "text": [
      "{1, 2, 3, 4, 6, 7}\n"
     ]
    },
    {
     "ename": "KeyError",
     "evalue": "5",
     "output_type": "error",
     "traceback": [
      "\u001b[1;31m---------------------------------------------------------------------------\u001b[0m",
      "\u001b[1;31mKeyError\u001b[0m                                  Traceback (most recent call last)",
      "\u001b[1;32m<ipython-input-125-0e979753f23e>\u001b[0m in \u001b[0;36m<module>\u001b[1;34m()\u001b[0m\n\u001b[0;32m      2\u001b[0m \u001b[1;31m# remove 和 disscard的区别\u001b[0m\u001b[1;33m\u001b[0m\u001b[1;33m\u001b[0m\u001b[0m\n\u001b[0;32m      3\u001b[0m \u001b[0mprint\u001b[0m\u001b[1;33m(\u001b[0m\u001b[0msa\u001b[0m\u001b[1;33m)\u001b[0m\u001b[1;33m\u001b[0m\u001b[0m\n\u001b[1;32m----> 4\u001b[1;33m \u001b[0msa\u001b[0m\u001b[1;33m.\u001b[0m\u001b[0mremove\u001b[0m\u001b[1;33m(\u001b[0m\u001b[1;36m5\u001b[0m\u001b[1;33m)\u001b[0m\u001b[1;33m\u001b[0m\u001b[0m\n\u001b[0m\u001b[0;32m      5\u001b[0m \u001b[0mprint\u001b[0m\u001b[1;33m(\u001b[0m\u001b[0msa\u001b[0m\u001b[1;33m)\u001b[0m\u001b[1;33m\u001b[0m\u001b[0m\n\u001b[0;32m      6\u001b[0m \u001b[1;31m#remove删除的值如果不在集合中，报错\u001b[0m\u001b[1;33m\u001b[0m\u001b[1;33m\u001b[0m\u001b[0m\n",
      "\u001b[1;31mKeyError\u001b[0m: 5"
     ]
    }
   ],
   "source": [
    "# 删除操作\n",
    "# remove 和 disscard的区别\n",
    "print(sa)\n",
    "sa.remove(5)\n",
    "print(sa)\n",
    "#remove删除的值如果不在集合中，报错\n",
    "sa.remove(5)"
   ]
  },
  {
   "cell_type": "code",
   "execution_count": 128,
   "metadata": {},
   "outputs": [
    {
     "name": "stdout",
     "output_type": "stream",
     "text": [
      "{1, 2, 3, 4, 5, 6, 7}\n",
      "{1, 2, 3, 4, 6, 7}\n"
     ]
    }
   ],
   "source": [
    "sa = {1,2,3,4,5,6,7}\n",
    "print(sa)\n",
    "sa.discard(5)\n",
    "print(sa)\n",
    "#remove删除的值如果不在集合中，报错\n",
    "sa.discard(5)"
   ]
  },
  {
   "cell_type": "code",
   "execution_count": 166,
   "metadata": {},
   "outputs": [
    {
     "name": "stdout",
     "output_type": "stream",
     "text": [
      "{1, 2, 3, 4, 5, 6, 7}\n",
      "{2, 3, 4, 5, 6, 7}\n"
     ]
    }
   ],
   "source": [
    "# pop弹出集合的一个内容\n",
    "# 删除的内容是随机的\n",
    "# 删除的内容没规律，随机\n",
    "sa = {1,2,3,4,5,6,7}\n",
    "print(sa)\n",
    "sa.pop()\n",
    "print(sa)"
   ]
  },
  {
   "cell_type": "code",
   "execution_count": 171,
   "metadata": {},
   "outputs": [
    {
     "name": "stdout",
     "output_type": "stream",
     "text": [
      "{3, 4, 5, 7}\n",
      "{1, 2, 6}\n",
      "{1, 2, 6}\n",
      "{1, 2, 3, 4, 5, 6, 7, 8, 9}\n"
     ]
    }
   ],
   "source": [
    "# 集合的数学操作\n",
    "# intersection；交集\n",
    "sa = {1,2,3,4,5,6,7}\n",
    "sb = {3,4,5,7,8,9}\n",
    "# sa 和sb的交集\n",
    "print(sa.intersection(sb))\n",
    "\n",
    "# difference:差集\n",
    "print(sa.difference(sb))\n",
    "# 差集的另一种表示\n",
    "print(sa - sb)\n",
    "\n",
    "# union: 并集\n",
    "print(sa.union(sb))"
   ]
  },
  {
   "cell_type": "markdown",
   "metadata": {},
   "source": [
    "# frozenset 冰洁集合\n",
    "- 不允许修改的集合"
   ]
  },
  {
   "cell_type": "code",
   "execution_count": 174,
   "metadata": {},
   "outputs": [
    {
     "name": "stdout",
     "output_type": "stream",
     "text": [
      "{1, 2, 3, 4, 5, 6, 7}\n",
      "frozenset({1, 2, 3, 4, 5, 6, 7})\n"
     ]
    }
   ],
   "source": [
    "# 案例\n",
    "print(sa)\n",
    "sb = frozenset(sa)\n",
    "print(sb)"
   ]
  },
  {
   "cell_type": "code",
   "execution_count": 11,
   "metadata": {},
   "outputs": [
    {
     "name": "stdout",
     "output_type": "stream",
     "text": [
      "119\n",
      "329\n",
      "539\n",
      "749\n",
      "959\n"
     ]
    }
   ],
   "source": [
    "for i in range(1,1000):\n",
    "    if (i % 2 == 1) and (i % 3 == 2) and (i % 5 == 4) and (i % 6 ==5) and (i % 7 ==0):\n",
    "        print(i)\n",
    "      "
   ]
  },
  {
   "cell_type": "code",
   "execution_count": 13,
   "metadata": {},
   "outputs": [
    {
     "name": "stdout",
     "output_type": "stream",
     "text": [
      "Help on class list in module builtins:\n",
      "\n",
      "class list(object)\n",
      " |  list(iterable=(), /)\n",
      " |  \n",
      " |  Built-in mutable sequence.\n",
      " |  \n",
      " |  If no argument is given, the constructor creates a new empty list.\n",
      " |  The argument must be an iterable if specified.\n",
      " |  \n",
      " |  Methods defined here:\n",
      " |  \n",
      " |  __add__(self, value, /)\n",
      " |      Return self+value.\n",
      " |  \n",
      " |  __contains__(self, key, /)\n",
      " |      Return key in self.\n",
      " |  \n",
      " |  __delitem__(self, key, /)\n",
      " |      Delete self[key].\n",
      " |  \n",
      " |  __eq__(self, value, /)\n",
      " |      Return self==value.\n",
      " |  \n",
      " |  __ge__(self, value, /)\n",
      " |      Return self>=value.\n",
      " |  \n",
      " |  __getattribute__(self, name, /)\n",
      " |      Return getattr(self, name).\n",
      " |  \n",
      " |  __getitem__(...)\n",
      " |      x.__getitem__(y) <==> x[y]\n",
      " |  \n",
      " |  __gt__(self, value, /)\n",
      " |      Return self>value.\n",
      " |  \n",
      " |  __iadd__(self, value, /)\n",
      " |      Implement self+=value.\n",
      " |  \n",
      " |  __imul__(self, value, /)\n",
      " |      Implement self*=value.\n",
      " |  \n",
      " |  __init__(self, /, *args, **kwargs)\n",
      " |      Initialize self.  See help(type(self)) for accurate signature.\n",
      " |  \n",
      " |  __iter__(self, /)\n",
      " |      Implement iter(self).\n",
      " |  \n",
      " |  __le__(self, value, /)\n",
      " |      Return self<=value.\n",
      " |  \n",
      " |  __len__(self, /)\n",
      " |      Return len(self).\n",
      " |  \n",
      " |  __lt__(self, value, /)\n",
      " |      Return self<value.\n",
      " |  \n",
      " |  __mul__(self, value, /)\n",
      " |      Return self*value.\n",
      " |  \n",
      " |  __ne__(self, value, /)\n",
      " |      Return self!=value.\n",
      " |  \n",
      " |  __repr__(self, /)\n",
      " |      Return repr(self).\n",
      " |  \n",
      " |  __reversed__(self, /)\n",
      " |      Return a reverse iterator over the list.\n",
      " |  \n",
      " |  __rmul__(self, value, /)\n",
      " |      Return value*self.\n",
      " |  \n",
      " |  __setitem__(self, key, value, /)\n",
      " |      Set self[key] to value.\n",
      " |  \n",
      " |  __sizeof__(self, /)\n",
      " |      Return the size of the list in memory, in bytes.\n",
      " |  \n",
      " |  append(self, object, /)\n",
      " |      Append object to the end of the list.\n",
      " |  \n",
      " |  clear(self, /)\n",
      " |      Remove all items from list.\n",
      " |  \n",
      " |  copy(self, /)\n",
      " |      Return a shallow copy of the list.\n",
      " |  \n",
      " |  count(self, value, /)\n",
      " |      Return number of occurrences of value.\n",
      " |  \n",
      " |  extend(self, iterable, /)\n",
      " |      Extend list by appending elements from the iterable.\n",
      " |  \n",
      " |  index(self, value, start=0, stop=9223372036854775807, /)\n",
      " |      Return first index of value.\n",
      " |      \n",
      " |      Raises ValueError if the value is not present.\n",
      " |  \n",
      " |  insert(self, index, object, /)\n",
      " |      Insert object before index.\n",
      " |  \n",
      " |  pop(self, index=-1, /)\n",
      " |      Remove and return item at index (default last).\n",
      " |      \n",
      " |      Raises IndexError if list is empty or index is out of range.\n",
      " |  \n",
      " |  remove(self, value, /)\n",
      " |      Remove first occurrence of value.\n",
      " |      \n",
      " |      Raises ValueError if the value is not present.\n",
      " |  \n",
      " |  reverse(self, /)\n",
      " |      Reverse *IN PLACE*.\n",
      " |  \n",
      " |  sort(self, /, *, key=None, reverse=False)\n",
      " |      Stable sort *IN PLACE*.\n",
      " |  \n",
      " |  ----------------------------------------------------------------------\n",
      " |  Static methods defined here:\n",
      " |  \n",
      " |  __new__(*args, **kwargs) from builtins.type\n",
      " |      Create and return a new object.  See help(type) for accurate signature.\n",
      " |  \n",
      " |  ----------------------------------------------------------------------\n",
      " |  Data and other attributes defined here:\n",
      " |  \n",
      " |  __hash__ = None\n",
      "\n"
     ]
    }
   ],
   "source": [
    "help(list)"
   ]
  },
  {
   "cell_type": "markdown",
   "metadata": {},
   "source": [
    "# dict字典\n",
    "- 字典是另一种可变容器模型，且可存储任意类型对象。\n",
    "    - 字典的每个键值(key=>value)对用冒号(:)分割，每个对之间用逗号(,)分割，整个字典包括在花括号({})中 ,格式如下所示：\n",
    "    ```pyhton\n",
    "    d = {key1 : value1, key2 : value2 }\n",
    "    ```\n",
    "    - 键必须是唯一的，但值则不必。值可以取任何数据类型，但键必须是不可变的，如字符串，数字或元组。\n",
    "\n",
    "- 访问字典里的值\n",
    "    - 通过把相应的键放入中括号中\n",
    "    - 如果字典里没有的键访问数据。会报错\n",
    "- 修改字典\n",
    "    - 直接添加新的键/值对\n",
    "- 删除字典元素\n",
    "    - 可以删除单一元素也能清空字典，清空只需一项操作\n",
    "- 字典的特性\n",
    "    - 字典的值可以任意的python对象，既可以是标注的对象，也可以使用户定义的，键不行。\n",
    "    - 不允许同一个键出现两次。创建时如果同一个键被赋值两次，前一个值会被覆盖\n",
    "    - **键必须不可变，可以用数字、字符串或元组充当，列表就不行**"
   ]
  },
  {
   "cell_type": "code",
   "execution_count": 3,
   "metadata": {},
   "outputs": [],
   "source": [
    "# dict案例\n",
    "dict1 = {'Alice': '2341', 'Beth': '9102', 'Cecil': '3258'}\n",
    "dict2 = { 'abc': 456 }\n",
    "dict3 = { 'abc': 123, 98.6: 37 }\n",
    "dict4 = {(2,3):121}"
   ]
  },
  {
   "cell_type": "code",
   "execution_count": 10,
   "metadata": {},
   "outputs": [
    {
     "name": "stdout",
     "output_type": "stream",
     "text": [
      "dict[name]: 王小贱\n",
      "dict[age]: 18\n"
     ]
    },
    {
     "ename": "KeyError",
     "evalue": "'class'",
     "output_type": "error",
     "traceback": [
      "\u001b[1;31m---------------------------------------------------------------------------\u001b[0m",
      "\u001b[1;31mKeyError\u001b[0m                                  Traceback (most recent call last)",
      "\u001b[1;32m<ipython-input-10-184aab1d543b>\u001b[0m in \u001b[0;36m<module>\u001b[1;34m()\u001b[0m\n\u001b[0;32m      5\u001b[0m \u001b[1;33m\u001b[0m\u001b[0m\n\u001b[0;32m      6\u001b[0m \u001b[1;31m#如果字典里没有的键访问数据。会报错\u001b[0m\u001b[1;33m\u001b[0m\u001b[1;33m\u001b[0m\u001b[0m\n\u001b[1;32m----> 7\u001b[1;33m \u001b[0mprint\u001b[0m\u001b[1;33m(\u001b[0m\u001b[1;34m\"dict[class]： {}\"\u001b[0m\u001b[1;33m.\u001b[0m\u001b[0mformat\u001b[0m\u001b[1;33m(\u001b[0m\u001b[0mdict1\u001b[0m\u001b[1;33m[\u001b[0m\u001b[1;34m\"class\"\u001b[0m\u001b[1;33m]\u001b[0m\u001b[1;33m)\u001b[0m\u001b[1;33m)\u001b[0m\u001b[1;33m\u001b[0m\u001b[0m\n\u001b[0m",
      "\u001b[1;31mKeyError\u001b[0m: 'class'"
     ]
    }
   ],
   "source": [
    "# dict 访问案例\n",
    "dict1 = {\"name\":\"王小贱\",\"age\":18, 'gender':\"男\"}\n",
    "print(\"dict[name]: {}\".format(dict1[\"name\"]))\n",
    "print(\"dict[age]: {}\".format(dict1[\"age\"]))\n",
    "\n",
    "#如果字典里没有的键访问数据。会报错\n",
    "print(\"dict[class]： {}\".format(dict1[\"class\"]))"
   ]
  },
  {
   "cell_type": "code",
   "execution_count": 13,
   "metadata": {},
   "outputs": [
    {
     "name": "stdout",
     "output_type": "stream",
     "text": [
      "dict[age]: 19\n",
      "dict[School]: 人民中学\n",
      "{'name': '王小贱', 'age': 19, 'gender': '男', 'School': '人民中学'}\n"
     ]
    }
   ],
   "source": [
    "# dict 修改案例\n",
    "dict1 = {\"name\":\"王小贱\",\"age\":18, 'gender':\"男\"}\n",
    "\n",
    "dict1[\"age\"] = 19    #修改信息\n",
    "dict1[\"School\"] = \"人民中学\"   # 增加信息\n",
    "\n",
    "print(\"dict[age]: {}\".format(dict1[\"age\"]))\n",
    "print(\"dict[School]: {}\".format(dict1[\"School\"]))\n",
    "print(dict1)"
   ]
  },
  {
   "cell_type": "code",
   "execution_count": 18,
   "metadata": {},
   "outputs": [
    {
     "name": "stdout",
     "output_type": "stream",
     "text": [
      "{'Age': 7, 'Class': 'First'}\n",
      "{}\n"
     ]
    },
    {
     "ename": "NameError",
     "evalue": "name 'dict1' is not defined",
     "output_type": "error",
     "traceback": [
      "\u001b[1;31m---------------------------------------------------------------------------\u001b[0m",
      "\u001b[1;31mNameError\u001b[0m                                 Traceback (most recent call last)",
      "\u001b[1;32m<ipython-input-18-a5c6454d9bd5>\u001b[0m in \u001b[0;36m<module>\u001b[1;34m()\u001b[0m\n\u001b[0;32m      7\u001b[0m \u001b[0mprint\u001b[0m\u001b[1;33m(\u001b[0m\u001b[0mdict1\u001b[0m\u001b[1;33m)\u001b[0m\u001b[1;33m\u001b[0m\u001b[0m\n\u001b[0;32m      8\u001b[0m \u001b[1;32mdel\u001b[0m \u001b[0mdict1\u001b[0m\u001b[1;33m\u001b[0m\u001b[0m\n\u001b[1;32m----> 9\u001b[1;33m \u001b[0mprint\u001b[0m\u001b[1;33m(\u001b[0m\u001b[0mdict1\u001b[0m\u001b[1;33m)\u001b[0m\u001b[1;33m\u001b[0m\u001b[0m\n\u001b[0m",
      "\u001b[1;31mNameError\u001b[0m: name 'dict1' is not defined"
     ]
    }
   ],
   "source": [
    "# dict 删除字典元素\n",
    "dict1 = {'Name': 'Lisa', 'Age': 7, 'Class': 'First'}\n",
    "\n",
    "del dict1['Name']  # 删除键  'Name'\n",
    "print(dict1)\n",
    "dict1.clear()  # 清空字典\n",
    "print(dict1)\n",
    "del dict1\n",
    "print(dict1)\n"
   ]
  },
  {
   "cell_type": "code",
   "execution_count": 19,
   "metadata": {},
   "outputs": [
    {
     "name": "stdout",
     "output_type": "stream",
     "text": [
      "dict[School]: Nana\n"
     ]
    }
   ],
   "source": [
    "# dict 同一个键\n",
    "dict1 =  {'Name': 'Lisa', 'Age': 7, 'Name': 'Nana'} # 有两个Name\n",
    "print(\"dict[School]: {}\".format(dict1[\"Name\"]))"
   ]
  },
  {
   "cell_type": "code",
   "execution_count": 21,
   "metadata": {},
   "outputs": [
    {
     "ename": "TypeError",
     "evalue": "unhashable type: 'list'",
     "output_type": "error",
     "traceback": [
      "\u001b[1;31m---------------------------------------------------------------------------\u001b[0m",
      "\u001b[1;31mTypeError\u001b[0m                                 Traceback (most recent call last)",
      "\u001b[1;32m<ipython-input-21-652bc34c71eb>\u001b[0m in \u001b[0;36m<module>\u001b[1;34m()\u001b[0m\n\u001b[0;32m      1\u001b[0m \u001b[1;31m# dict 键为列表\u001b[0m\u001b[1;33m\u001b[0m\u001b[1;33m\u001b[0m\u001b[0m\n\u001b[1;32m----> 2\u001b[1;33m \u001b[0mdic\u001b[0m \u001b[1;33m=\u001b[0m \u001b[1;33m{\u001b[0m\u001b[1;33m[\u001b[0m\u001b[1;34m'Name'\u001b[0m\u001b[1;33m]\u001b[0m\u001b[1;33m:\u001b[0m \u001b[1;34m'Lisa'\u001b[0m\u001b[1;33m,\u001b[0m \u001b[1;34m'Age'\u001b[0m\u001b[1;33m:\u001b[0m \u001b[1;36m7\u001b[0m\u001b[1;33m}\u001b[0m\u001b[1;33m\u001b[0m\u001b[0m\n\u001b[0m\u001b[0;32m      3\u001b[0m \u001b[1;33m\u001b[0m\u001b[0m\n\u001b[0;32m      4\u001b[0m \u001b[0mprint\u001b[0m \u001b[1;33m(\u001b[0m\u001b[1;34m\"dict['Name']: \"\u001b[0m\u001b[1;33m,\u001b[0m \u001b[0mdic\u001b[0m\u001b[1;33m[\u001b[0m\u001b[1;34m'Name'\u001b[0m\u001b[1;33m]\u001b[0m\u001b[1;33m)\u001b[0m\u001b[1;33m\u001b[0m\u001b[0m\n",
      "\u001b[1;31mTypeError\u001b[0m: unhashable type: 'list'"
     ]
    }
   ],
   "source": [
    "# dict 键为列表\n",
    "dic = {['Name']: 'Lisa', 'Age': 7}\n",
    " \n",
    "print (\"dict['Name']: \", dic['Name'])"
   ]
  },
  {
   "cell_type": "code",
   "execution_count": 22,
   "metadata": {},
   "outputs": [
    {
     "name": "stdout",
     "output_type": "stream",
     "text": [
      "None\n",
      "{}\n"
     ]
    }
   ],
   "source": [
    "# dict字典内置方法\n",
    "# clear() 清空整个字典，返回None\n",
    "dict1 = {\"a\":1,\"b\":2,\"c\":3}\n",
    "print(dict1.clear())\n",
    "print(dict1)"
   ]
  },
  {
   "cell_type": "code",
   "execution_count": 23,
   "metadata": {},
   "outputs": [
    {
     "name": "stdout",
     "output_type": "stream",
     "text": [
      "{'a': 1, 'b': 2, 'c': 3}\n",
      "2246150048000\n",
      "2246150047784\n"
     ]
    }
   ],
   "source": [
    "# copy() 复制字典\n",
    "dict1 = {\"a\":1,\"b\":2,\"c\":3}\n",
    "dict2 = dict1.copy()\n",
    "print(dict2)\n",
    "print(id(dict1))\n",
    "print(id(dict2))"
   ]
  },
  {
   "cell_type": "code",
   "execution_count": 25,
   "metadata": {},
   "outputs": [
    {
     "name": "stdout",
     "output_type": "stream",
     "text": [
      "{'a': None, 'b': None, 'c': None}\n",
      "{'a': 3, 'b': 3, 'c': 3}\n"
     ]
    }
   ],
   "source": [
    "# fromkeys() 按照指定的序列为键创建字典，纸都是一样的,默认为None\n",
    "list1 = [\"a\",\"b\",\"c\"]\n",
    "dict1 = dict1.fromkeys(list1)\n",
    "dict2 = dict2.fromkeys(list1,3)\n",
    "print(dict1)\n",
    "print(dict2)"
   ]
  },
  {
   "cell_type": "code",
   "execution_count": 26,
   "metadata": {},
   "outputs": [
    {
     "name": "stdout",
     "output_type": "stream",
     "text": [
      "2\n",
      "None\n",
      "4\n"
     ]
    }
   ],
   "source": [
    "# get() 根据键获取指定的值， 找不到的键如果没默认值则返回默认值，如果没\n",
    "dict1 = {\"a\":1,\"b\":2,\"c\":3}\n",
    "print(dict1.get('b'))\n",
    "print(dict1.get('d'))\n",
    "print(dict1.get('d',4))"
   ]
  },
  {
   "cell_type": "code",
   "execution_count": 28,
   "metadata": {},
   "outputs": [
    {
     "name": "stdout",
     "output_type": "stream",
     "text": [
      "a 1\n",
      "b 2\n",
      "c 3\n",
      "('a', 1)\n",
      "('b', 2)\n",
      "('c', 3)\n",
      "dict_items([('a', 1), ('b', 2), ('c', 3)])\n"
     ]
    }
   ],
   "source": [
    "# items() 将字典返回成类似于元组的形式方便遍历\n",
    "dict1 = {\"a\":1,\"b\":2,\"c\":3}\n",
    "for k,v in dict1.items():\n",
    "    print(k, v)\n",
    "\n",
    "for i in dict1.items():\n",
    "    print(i)\n",
    "    \n",
    "print(dict1.items())"
   ]
  },
  {
   "cell_type": "code",
   "execution_count": 31,
   "metadata": {},
   "outputs": [
    {
     "name": "stdout",
     "output_type": "stream",
     "text": [
      "1\n",
      "{'b': 2, 'c': 3}\n",
      "4\n"
     ]
    },
    {
     "ename": "KeyError",
     "evalue": "'d'",
     "output_type": "error",
     "traceback": [
      "\u001b[1;31m---------------------------------------------------------------------------\u001b[0m",
      "\u001b[1;31mKeyError\u001b[0m                                  Traceback (most recent call last)",
      "\u001b[1;32m<ipython-input-31-6016b3f6f5f6>\u001b[0m in \u001b[0;36m<module>\u001b[1;34m()\u001b[0m\n\u001b[0;32m      4\u001b[0m \u001b[0mprint\u001b[0m\u001b[1;33m(\u001b[0m\u001b[0mdict1\u001b[0m\u001b[1;33m)\u001b[0m\u001b[1;33m\u001b[0m\u001b[0m\n\u001b[0;32m      5\u001b[0m \u001b[0mprint\u001b[0m\u001b[1;33m(\u001b[0m\u001b[0mdict1\u001b[0m\u001b[1;33m.\u001b[0m\u001b[0mpop\u001b[0m\u001b[1;33m(\u001b[0m\u001b[1;34m\"d\"\u001b[0m\u001b[1;33m,\u001b[0m\u001b[1;36m4\u001b[0m\u001b[1;33m)\u001b[0m\u001b[1;33m)\u001b[0m\u001b[1;33m\u001b[0m\u001b[0m\n\u001b[1;32m----> 6\u001b[1;33m \u001b[0mprint\u001b[0m\u001b[1;33m(\u001b[0m\u001b[0mdict1\u001b[0m\u001b[1;33m.\u001b[0m\u001b[0mpop\u001b[0m\u001b[1;33m(\u001b[0m\u001b[1;34m\"d\"\u001b[0m\u001b[1;33m)\u001b[0m\u001b[1;33m)\u001b[0m\u001b[1;33m\u001b[0m\u001b[0m\n\u001b[0m",
      "\u001b[1;31mKeyError\u001b[0m: 'd'"
     ]
    }
   ],
   "source": [
    "# pop() 移除字典中指定元素，返回值所对应的值，如果值不存在，则返回默认值，没设默认值，就会报错\n",
    "dict1 = {\"a\":1,\"b\":2,\"c\":3}\n",
    "print(dict1.pop(\"a\"))\n",
    "print(dict1)\n",
    "print(dict1.pop(\"d\",4))\n",
    "print(dict1.pop(\"d\"))"
   ]
  },
  {
   "cell_type": "code",
   "execution_count": 33,
   "metadata": {},
   "outputs": [
    {
     "name": "stdout",
     "output_type": "stream",
     "text": [
      "('c', 3)\n"
     ]
    }
   ],
   "source": [
    "# popitem() 移除字典的键值对，返回移除的键和值\n",
    "dict1 = {\"a\":1,\"b\":2,\"c\":3}\n",
    "print(dict1.popitem())"
   ]
  },
  {
   "cell_type": "code",
   "execution_count": 36,
   "metadata": {},
   "outputs": [
    {
     "name": "stdout",
     "output_type": "stream",
     "text": [
      "3\n",
      "None\n",
      "5\n",
      "{'a': 1, 'b': 2, 'c': 3, 'e': None, 'f': 5}\n"
     ]
    }
   ],
   "source": [
    "# setdefault() # 和get()类似，但如果键不存在字典中，将会添加键并将值设为default\n",
    "dict1 = {\"a\":1,\"b\":2,\"c\":3}\n",
    "print(dict1.setdefault(\"c\"))\n",
    "print(dict1.setdefault(\"e\"))\n",
    "print(dict1.setdefault(\"f\",5))\n",
    "print(dict1)"
   ]
  },
  {
   "cell_type": "code",
   "execution_count": 37,
   "metadata": {},
   "outputs": [
    {
     "name": "stdout",
     "output_type": "stream",
     "text": [
      "{'a': 2, 'b': 2, 'c': 3}\n"
     ]
    }
   ],
   "source": [
    "# update() 修改字典中的值\n",
    "dict1 = {\"a\":1,\"b\":2,\"c\":3}\n",
    "dict1.update({\"a\":2,\"b\"})\n",
    "print(dict1)"
   ]
  }
 ],
 "metadata": {
  "kernelspec": {
   "display_name": "Python 3",
   "language": "python",
   "name": "python3"
  },
  "language_info": {
   "codemirror_mode": {
    "name": "ipython",
    "version": 3
   },
   "file_extension": ".py",
   "mimetype": "text/x-python",
   "name": "python",
   "nbconvert_exporter": "python",
   "pygments_lexer": "ipython3",
   "version": "3.7.0"
  }
 },
 "nbformat": 4,
 "nbformat_minor": 2
}
