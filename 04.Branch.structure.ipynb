{
 "cells": [
  {
   "cell_type": "markdown",
   "metadata": {},
   "source": [
    "# 程序结构\n",
    "- 程序三种结构\n",
    "    - 顺序\n",
    "    - 循环\n",
    "    - 分支"
   ]
  },
  {
   "cell_type": "markdown",
   "metadata": {},
   "source": [
    "# 分支结构\n",
    "- 分支结构基本语法\n",
    "    - if 语句\n",
    "        ```python\n",
    "        if 条件表达式：\n",
    "            语句1\n",
    "            语句2\n",
    "            语句3\n",
    "            ``` \n",
    "- 条件表达式就是计算结果必须为布尔值的表达式\n",
    "- 表达式后面的冒号不能少\n",
    "- **注意 if 后面的出现语句，如果属于if语句块，则必须同一个缩进等级**\n",
    "- 条件表达式结果为True执行if后面的缩进的语句块\n",
    "\n"
   ]
  },
  {
   "cell_type": "code",
   "execution_count": 7,
   "metadata": {},
   "outputs": [
    {
     "name": "stdout",
     "output_type": "stream",
     "text": [
      "赵四就发财了\n",
      "迎娶白富美\n",
      "日子还得过啊\n"
     ]
    }
   ],
   "source": [
    "# if 语句案例\n",
    "\n",
    "a = \"中了彩票\"\n",
    "\n",
    "# 字符串的真假：\n",
    "# 只有空字符串结果为False, 其他全为True\n",
    "\n",
    "\n",
    "if a:\n",
    "    print(\"赵四就发财了\")\n",
    "    print(\"迎娶白富美\")\n",
    "    \n",
    "print(\"日子还得过啊\")\n"
   ]
  },
  {
   "cell_type": "code",
   "execution_count": 9,
   "metadata": {},
   "outputs": [
    {
     "name": "stdout",
     "output_type": "stream",
     "text": [
      "喝酒去\n",
      "下次你请我\n"
     ]
    }
   ],
   "source": [
    "# if 案例2\n",
    "\n",
    "age = 19\n",
    "\n",
    "if age > 16:\n",
    "    print(\"喝酒去\")\n",
    "print(\"下次你请我\")"
   ]
  },
  {
   "cell_type": "markdown",
   "metadata": {},
   "source": [
    "# 双向分支\n",
    "- if...else..语句\n",
    "- 语法结构：\n",
    "    ```Python\n",
    "    if 条件表达式：\n",
    "        语句1\n",
    "        语句2\n",
    "        .....\n",
    "    else:\n",
    "        语句1\n",
    "        语句2\n",
    "        ....\n",
    "        ```\n"
   ]
  },
  {
   "cell_type": "code",
   "execution_count": 11,
   "metadata": {},
   "outputs": [
    {
     "name": "stdout",
     "output_type": "stream",
     "text": [
      "继续吃土吧\n",
      "日子还得过啊\n"
     ]
    }
   ],
   "source": [
    "# if..else.. 案例\n",
    "\n",
    "a = \"\"\n",
    "\n",
    "# 字符串的真假：\n",
    "# 只有空字符串结果为False, 其他全为True\n",
    "\n",
    "\n",
    "if a:\n",
    "    print(\"赵四就发财了\")\n",
    "    print(\"迎娶白富美\")\n",
    "else:\n",
    "    print(\"继续吃土吧\")\n",
    "    \n",
    "print(\"日子还得过啊\")"
   ]
  },
  {
   "cell_type": "code",
   "execution_count": 13,
   "metadata": {},
   "outputs": [
    {
     "name": "stdout",
     "output_type": "stream",
     "text": [
      "请输入您的性别： man\n",
      "man\n",
      "走，喝酒抽烟剃头\n"
     ]
    }
   ],
   "source": [
    "# input的作用是\n",
    "# 1.在屏幕上输出括号内的字符串\n",
    "# 2.接受用户输入的内容并返回到程序\n",
    "# 3. input返回的内容一定是字符串类型\n",
    "\n",
    "# input负责接受用户输入并把内容返回给变量\n",
    "gender = input(\"请输入您的性别： \")\n",
    "#打印输入的内容\n",
    "print(gender)\n",
    "\n",
    "if gender == \"man\":\n",
    "    print(\"走，喝酒抽烟剃头\")\n",
    "else:\n",
    "    print(\"你到底是个啥子啊\")\n",
    "    print(\"对不起，我是男生\")\n"
   ]
  },
  {
   "cell_type": "code",
   "execution_count": 22,
   "metadata": {},
   "outputs": [
    {
     "name": "stdout",
     "output_type": "stream",
     "text": [
      "请输入您的成绩12\n",
      "我没你这傻学生\n",
      "请输入您的成绩90\n",
      "良\n"
     ]
    }
   ],
   "source": [
    "# 习题\n",
    "# 考试成绩判断\n",
    "# 成绩由用户输入\n",
    "# 90以上： 输出优秀\n",
    "# 80-90：良\n",
    "# 70-80：中\n",
    "# 60-70： 平\n",
    "# 60以下：输出：我没你这傻学生\n",
    "\n",
    "score = (input(\"请输入您的成绩\"))\n",
    "score =int(score)\n",
    "if score >= 90:\n",
    "    print(\"优秀\")\n",
    "else:\n",
    "    if score >= 80:\n",
    "        print(\"良\")\n",
    "    else:\n",
    "        if score >= 70:\n",
    "            print(\"中\")\n",
    "        else:\n",
    "            if score >60:\n",
    "                print(\"平\")\n",
    "            else:\n",
    "                print(\"我没你这傻学生\")\n",
    "                \n",
    "\n",
    "score1 = (input(\"请输入您的成绩\"))\n",
    "score1 =int(score1)\n",
    "if score1 >= 90:\n",
    "    print(\"优秀\")\n",
    "if score1 >= 80 and score1 <= 90:\n",
    "    print(\"良\")\n",
    "if score1 >= 70 and score1 <80:\n",
    "    print(\"中\")\n",
    "if score1 >60 and score1 <70:\n",
    "    print(\"平\")\n",
    "if score1 <60:\n",
    "    print(\"我没你这傻学生\")"
   ]
  },
  {
   "cell_type": "markdown",
   "metadata": {},
   "source": [
    "# 多路分支\n",
    "- 很多分支的情况，叫多路分支\n",
    "```Python\n",
    "    if 条件表达式：\n",
    "        语句1\n",
    "    elif 条件表达式：\n",
    "        语句1\n",
    "        语句2\n",
    "    elif 条件表达式：\n",
    "        语句1\n",
    "    else:\n",
    "        语句1\n",
    "        ```\n",
    "- elif可以用好多个，根据实际情况\n",
    "- else可选\n",
    "- 多路分支最多只会执行一种情况\n",
    "\n",
    "# if语句补充\n",
    "- if语句可以嵌套使用，不推荐\n",
    "- python没有switch语句"
   ]
  },
  {
   "cell_type": "code",
   "execution_count": 28,
   "metadata": {},
   "outputs": [
    {
     "name": "stdout",
     "output_type": "stream",
     "text": [
      "请输入您的成绩90\n",
      "优秀\n"
     ]
    }
   ],
   "source": [
    "score2 = (input(\"请输入您的成绩\"))\n",
    "score2 =int(score2)\n",
    "if score2 >= 90:\n",
    "    print(\"优秀\")\n",
    "elif score2 >= 80:\n",
    "        print(\"良\")\n",
    "elif score2 >= 70:\n",
    "        print(\"中\")\n",
    "elif score2 >= 60:\n",
    "        print(\"平\")\n",
    "else:\n",
    "        print(\"我没你这撒学僧\")"
   ]
  },
  {
   "cell_type": "markdown",
   "metadata": {},
   "source": [
    "# 循环语句\n",
    "- 重复执行某一个固定的动作或任务\n",
    "- 分类\n",
    "    - for\n",
    "    - while\n",
    " \n",
    "# for循环\n",
    "- 语法\n",
    "```python\n",
    "    for 变量 in 序列：\n",
    "        语句1\n",
    "        语句2\n",
    "        ...\n",
    "        ```\n",
    "       "
   ]
  },
  {
   "cell_type": "code",
   "execution_count": 30,
   "metadata": {},
   "outputs": [
    {
     "name": "stdout",
     "output_type": "stream",
     "text": [
      "1\n",
      "101\n",
      "1001\n",
      "2\n",
      "102\n",
      "1002\n",
      "3\n",
      "103\n",
      "1003\n",
      "4\n",
      "104\n",
      "1004\n",
      "5\n",
      "105\n",
      "1005\n",
      "6\n",
      "106\n",
      "1006\n",
      "7\n",
      "107\n",
      "1007\n"
     ]
    }
   ],
   "source": [
    "# 列表\n",
    "# 比如[1,2,3,4,5,6,7]\n",
    "list_one = [1,2,3,4,5,6,7]\n",
    "\n",
    "#对序列里面的每一个变量都执行代码块命令\n",
    "for number in list_one:\n",
    "    print(number)\n",
    "    print(number + 100)\n",
    "    print(number + 1000)\n",
    "    "
   ]
  },
  {
   "cell_type": "code",
   "execution_count": 33,
   "metadata": {},
   "outputs": [
    {
     "name": "stdout",
     "output_type": "stream",
     "text": [
      "对不起同学，拜拜\n",
      "对不起同学，拜拜\n",
      "在吗？呵呵，么么哒\n"
     ]
    }
   ],
   "source": [
    "# 打印学生列表姓名\n",
    "\n",
    "stu_list = [\"王大眼\", \"李美丽\", \"王晓静\"]\n",
    "\n",
    "for stu in stu_list:\n",
    "    if stu == \"王晓静\":\n",
    "        print(\"在吗？呵呵，么么哒\")\n",
    "    else:\n",
    "        print(\"对不起同学，拜拜\")"
   ]
  },
  {
   "cell_type": "markdown",
   "metadata": {},
   "source": [
    "# for -else 语句\n",
    "- for循环结束的时候，有时候需要执行一些收尾工作，此时需要使用else语句\n",
    "- else语句是可选的"
   ]
  },
  {
   "cell_type": "code",
   "execution_count": 35,
   "metadata": {},
   "outputs": [
    {
     "name": "stdout",
     "output_type": "stream",
     "text": [
      "对不起同学，拜拜\n",
      "对不起同学，拜拜\n",
      "在吗？呵呵，么么哒\n",
      "没有对象了\n"
     ]
    }
   ],
   "source": [
    "# for-else语句\n",
    "# 如果没有在列表，或列表结束了，打印提示，不会再爱了\n",
    "\n",
    "stu_list = [\"王大眼\", \"李美丽\", \"王晓静\"]\n",
    "\n",
    "for stu in stu_list:\n",
    "    if stu == \"王晓静\":\n",
    "        print(\"在吗？呵呵，么么哒\")\n",
    "    else:\n",
    "        print(\"对不起同学，拜拜\")\n",
    "else:\n",
    "    print(\"没有对象了\")"
   ]
  },
  {
   "cell_type": "markdown",
   "metadata": {},
   "source": [
    "# break, continue, pass\n",
    "- break:无条件结束整个循环，简称循环猝死\n",
    "- continue:继续\n",
    "- pass: 只是占位符号，代表这句话啥也不干，没有跳过功能"
   ]
  },
  {
   "cell_type": "code",
   "execution_count": 41,
   "metadata": {},
   "outputs": [
    {
     "name": "stdout",
     "output_type": "stream",
     "text": [
      "1\n",
      "2\n",
      "3\n",
      "4\n",
      "5\n",
      "6\n",
      "bingooooooooo!!!!!\n"
     ]
    }
   ],
   "source": [
    "# 在一个数字队列中，寻找数字7，如果找到，打印出来即可，并且结束\n",
    "\n",
    "list_one = [1,2,3,4,5,6,7,8,9,7]\n",
    "\n",
    "for num in list_one:\n",
    "    if num == 7:\n",
    "        print(\"bingooooooooo!!!!!\")\n",
    "        break\n",
    "    else:\n",
    "        print(num)\n",
    "        "
   ]
  },
  {
   "cell_type": "code",
   "execution_count": 50,
   "metadata": {},
   "outputs": [],
   "source": [
    "# continue 语句练习\n",
    "# 在数字1-10中，寻找所有偶数，找到偶数后打印偶数\n",
    "#continue 案例1\n",
    "'''\n",
    "dig_list = [1,2,3,4,5,6,7,8,9,10]\n",
    "for dig in dig_list:\n",
    "    if dig % 2 == 0:\n",
    "        print(dig)\n",
    "        print(\"哈哈，你是个双的\")\n",
    "'''\n",
    "dig_list = [1,2,3,4,5,6,7,8,9,10]\n",
    "for dig in dig_list:\n",
    "    if dig % 2 == 1:\n",
    "        continue\n",
    "    print(dig)\n",
    "    print(\"哈哈，你是个双的\")"
   ]
  },
  {
   "cell_type": "code",
   "execution_count": 51,
   "metadata": {},
   "outputs": [
    {
     "name": "stdout",
     "output_type": "stream",
     "text": [
      "你还小\n"
     ]
    }
   ],
   "source": [
    "# pass案例1\n",
    "\n",
    "age = 19\n",
    "if age > 19:\n",
    "    pass\n",
    "else:\n",
    "    print(\"你还小\")"
   ]
  },
  {
   "cell_type": "code",
   "execution_count": 52,
   "metadata": {},
   "outputs": [
    {
     "name": "stdout",
     "output_type": "stream",
     "text": [
      "2\n",
      "23\n",
      "43\n",
      "54\n",
      "65\n",
      "2\n"
     ]
    }
   ],
   "source": [
    "# pass案例2\n",
    "\n",
    "ages = [2,23,43,54,65,2]\n",
    "for age in ages:\n",
    "    pass\n",
    "    print(age)"
   ]
  },
  {
   "cell_type": "markdown",
   "metadata": {},
   "source": [
    "# range函数\n",
    "- 生成有序数列\n",
    "- 生成数字队列可以定制"
   ]
  },
  {
   "cell_type": "code",
   "execution_count": 54,
   "metadata": {},
   "outputs": [
    {
     "name": "stdout",
     "output_type": "stream",
     "text": [
      "1\n",
      "2\n",
      "3\n",
      "4\n",
      "5\n",
      "6\n",
      "7\n",
      "8\n",
      "9\n",
      "10\n",
      "11\n",
      "12\n",
      "13\n",
      "14\n",
      "15\n",
      "16\n",
      "17\n",
      "18\n",
      "19\n",
      "20\n",
      "21\n",
      "22\n",
      "23\n",
      "24\n",
      "25\n",
      "26\n",
      "27\n",
      "28\n",
      "29\n",
      "30\n",
      "31\n",
      "32\n",
      "33\n",
      "34\n",
      "35\n",
      "36\n",
      "37\n",
      "38\n",
      "39\n",
      "40\n",
      "41\n",
      "42\n",
      "43\n",
      "44\n",
      "45\n",
      "46\n",
      "47\n",
      "48\n",
      "49\n",
      "50\n",
      "51\n",
      "52\n",
      "53\n",
      "54\n",
      "55\n",
      "56\n",
      "57\n",
      "58\n",
      "59\n",
      "60\n",
      "61\n",
      "62\n",
      "63\n",
      "64\n",
      "65\n",
      "66\n",
      "67\n",
      "68\n",
      "69\n",
      "70\n",
      "71\n",
      "72\n",
      "73\n",
      "74\n",
      "75\n",
      "76\n",
      "77\n",
      "78\n",
      "79\n",
      "80\n",
      "81\n",
      "82\n",
      "83\n",
      "84\n",
      "85\n",
      "86\n",
      "87\n",
      "88\n",
      "89\n",
      "90\n",
      "91\n",
      "92\n",
      "93\n",
      "94\n",
      "95\n",
      "96\n",
      "97\n",
      "98\n",
      "99\n",
      "100\n"
     ]
    }
   ],
   "source": [
    "# dig_list = [1,2,3,4....100]\n",
    "# range案例1\n",
    "# 生成一个从1到100的数字序列\n",
    "# range的生成序列的两个数字是左包括，右不包括\n",
    "dig_list = range(1,101)\n",
    "for dig in dig_list:\n",
    "    print(dig)\n",
    "\n",
    "# 一般在python中，连个表示范围的数字都是左包括右不包括，randint函数是个特例\n",
    "# range函数在python2.x和python3.X中有严重区别"
   ]
  },
  {
   "cell_type": "code",
   "execution_count": 55,
   "metadata": {},
   "outputs": [
    {
     "name": "stdout",
     "output_type": "stream",
     "text": [
      "1\n",
      "2\n",
      "3\n",
      "4\n",
      "5\n",
      "6\n",
      "7\n",
      "8\n",
      "9\n"
     ]
    }
   ],
   "source": [
    "# range案例3\n",
    "# 打印从 1到 9的数字\n",
    "for i in range(1,10):\n",
    "    print(i)"
   ]
  },
  {
   "cell_type": "markdown",
   "metadata": {},
   "source": [
    "# while循环\n",
    "- 一个循环语句\n",
    "- 表示当条件成立的时候，就循环，适用于不知道具体循环次数，但能确定某个条件成立就循环\n",
    "- while语法：\n",
    "    ```python\n",
    "    while 条件表达式：\n",
    "        语句块\n",
    "        \n",
    "    # 另外一种表达方法：\n",
    "    while 条件表达式：\n",
    "        语句块\n",
    "    else:\n",
    "        语句块\n",
    "        ```\n",
    "        "
   ]
  },
  {
   "cell_type": "code",
   "execution_count": 68,
   "metadata": {},
   "outputs": [
    {
     "name": "stdout",
     "output_type": "stream",
     "text": [
      "11\n",
      "11\n"
     ]
    }
   ],
   "source": [
    "# 如果说年利率是6.7%，本利是每年翻滚，则多少年后本钱会翻倍\n",
    "\n",
    "money = 100000\n",
    "year = 0 #存放需要翻倍的年数\n",
    "\n",
    "\n",
    "while money < 200000:\n",
    "    money = money * (1 + 0.067)\n",
    "    year += 1 # year = year + 1\n",
    "    \n",
    "print(year)\n",
    "\n",
    "\n",
    "# 年利率案例2\n",
    "while money < 20000:\n",
    "    money = money * (1 + 0.067)\n",
    "    year += 1 # year = year + 1\n",
    "else:\n",
    "    print(year)"
   ]
  },
  {
   "cell_type": "code",
   "execution_count": null,
   "metadata": {
    "collapsed": true
   },
   "outputs": [],
   "source": []
  }
 ],
 "metadata": {
  "kernelspec": {
   "display_name": "Python 3",
   "language": "python",
   "name": "python3"
  },
  "language_info": {
   "codemirror_mode": {
    "name": "ipython",
    "version": 3
   },
   "file_extension": ".py",
   "mimetype": "text/x-python",
   "name": "python",
   "nbconvert_exporter": "python",
   "pygments_lexer": "ipython3",
   "version": "3.6.3"
  }
 },
 "nbformat": 4,
 "nbformat_minor": 2
}
