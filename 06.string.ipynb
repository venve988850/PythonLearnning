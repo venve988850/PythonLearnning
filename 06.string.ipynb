{
 "cells": [
  {
   "cell_type": "markdown",
   "metadata": {},
   "source": [
    "# str字符串\n",
    "- str\n",
    "- 转义字符\n",
    "- 字符串的格式化\n",
    "- 内建函数"
   ]
  },
  {
   "cell_type": "markdown",
   "metadata": {},
   "source": [
    "# 字符串\n",
    "- 表示文字信息\n",
    "- 用单引号，双引号，三引号括起来"
   ]
  },
  {
   "cell_type": "code",
   "execution_count": 1,
   "metadata": {},
   "outputs": [
    {
     "name": "stdout",
     "output_type": "stream",
     "text": [
      "I love papapa\n"
     ]
    }
   ],
   "source": [
    "s = 'I love papa'\n",
    "print(s)"
   ]
  },
  {
   "cell_type": "code",
   "execution_count": 3,
   "metadata": {},
   "outputs": [
    {
     "name": "stdout",
     "output_type": "stream",
     "text": [
      "Ich liebe papa\n"
     ]
    }
   ],
   "source": [
    "s = 'Ich lieb papa'\n",
    "print(s)"
   ]
  },
  {
   "cell_type": "code",
   "execution_count": 5,
   "metadata": {},
   "outputs": [
    {
     "name": "stdout",
     "output_type": "stream",
     "text": [
      "\n",
      "I\n",
      "Love\n",
      "Pa\n",
      "Pa\n"
     ]
    }
   ],
   "source": [
    "s = \"\"\"\n",
    "I\n",
    "Love\n",
    "Pa\n",
    "Pa\"\"\"\n",
    "\n",
    "print(s)"
   ]
  },
  {
   "cell_type": "markdown",
   "metadata": {},
   "source": [
    "# 转义字符\n",
    "- 用一个特色的方法表示出一系列不方便写出的内容，比如回车键，换行符，退格键等\n",
    "- 借助反斜杠字符，一旦字符串中出现反斜杠，则反斜杠后面一个或者几个字符表示已经不是原来的意思了，进行了转义\n",
    "- 在字符串中，一旦出现反斜杠就要加倍小心，可能有转义字符出现\n",
    "- 不同系统对换行操作有不同的表示\n",
    "    - windows: \\n\n",
    "    - Linux：\\r\\n"
   ]
  },
  {
   "cell_type": "code",
   "execution_count": 13,
   "metadata": {
    "scrolled": true
   },
   "outputs": [
    {
     "name": "stdout",
     "output_type": "stream",
     "text": [
      "Let's Go\n",
      "Let's Go\n",
      "c:\\User\\Augsnano\n",
      "Ich liebe papa\n"
     ]
    }
   ],
   "source": [
    "# 转义字符的案列\n",
    "# 想表达Ler's Go\n",
    "\n",
    "# 使用转义字符\n",
    "s ='Let\\'s Go'\n",
    "print(s1)\n",
    "\n",
    "# 使用单双引号嵌套\n",
    "s = \"Let's Go\"\n",
    "print(s)\n",
    "\n",
    "# 表示斜杠\n",
    "#  比如表示C:\\User\\Augsnano\n",
    "s = \"c:\\\\User\\\\Augsnano\"\n",
    "print(s)\n",
    "\n",
    "# 回车换行\n",
    "# 想表达的是：\n",
    "# Ich\n",
    "# Liwb\n",
    "# Papa\n",
    "# windows 下也可以使用\\r\\r,效果相同\n",
    "s =\"Ich\\nlieb\\npapa\"\n",
    "print(s)"
   ]
  },
  {
   "cell_type": "markdown",
   "metadata": {},
   "source": [
    "# 常用转义字符\n",
    "    \\   在行尾时是     续行符\n",
    "    \\\\   反斜杠符号\n",
    "    \\' 单引号\n",
    "    \\\"  双引号\n",
    "    \\a  响铃\n",
    "    \\b  退格\n",
    "    \\e  转义\n",
    "    \\000 　空　\n",
    "    \\n     换行\n",
    "    \\v　　纵向制表符\n",
    "    \\t      横向制表符\n",
    "    \\r    回车\n",
    "    \\f     换页\n",
    "    \\oyy   八进制数，yy代表字符，如 \\o12 代表换行\n",
    "    \\xyy  十六进制数  yy代表字符，如\\x0a代表换行\n",
    "    \\other 其他字符一普通格式输出"
   ]
  },
  {
   "cell_type": "code",
   "execution_count": 15,
   "metadata": {},
   "outputs": [
    {
     "name": "stdout",
     "output_type": "stream",
     "text": [
      "hahaha\n"
     ]
    }
   ],
   "source": [
    "# 单个斜杠的用法\n",
    "# 在python里，单个反斜杠表示此行未结束，出于美观，需要下一行继续\n",
    "# 理论上应该写成 def my_demo(x, y, z)\n",
    "def my_demo(x,\\\n",
    "           y,\\\n",
    "           z):\n",
    "    print(\"hahaha\")\n",
    "\n",
    "my_demo(1,2,3)"
   ]
  },
  {
   "cell_type": "markdown",
   "metadata": {},
   "source": [
    "# 格式化\n",
    "- 把字符串按照一定的格式进行打印或填充\n",
    "- 格式化的分类：\n",
    "    - 传统格式化\n",
    "    - format"
   ]
  },
  {
   "cell_type": "code",
   "execution_count": 16,
   "metadata": {},
   "outputs": [
    {
     "name": "stdout",
     "output_type": "stream",
     "text": [
      "I love papa\n",
      "I love mama\n",
      "I love momo\n"
     ]
    }
   ],
   "source": [
    "# 填充\n",
    "s = \"I love papa\"\n",
    "print(s)\n",
    "\n",
    "s = \"I love mama\"\n",
    "print(s)\n",
    "\n",
    "s = \"I love momo\"\n",
    "print(s)"
   ]
  },
  {
   "cell_type": "markdown",
   "metadata": {},
   "source": [
    "# 字符串的传统格式化方法\n",
    "- 使用%进行格式化\n",
    "- %（百分号）也叫占位符\n",
    "\n",
    "    - %d          十进制整数占位符\n",
    "    - %c          字符占位符\n",
    "    - %f(.2f)     浮点类型占位符(小数部分占2位)\n",
    "    - %i          十进制、八进制、十六进制整数占位符\n",
    "    - %p          地址占位符（指针占位符）\n",
    "    - %s          字符串占位符\n",
    "    - %x(X)       十六进制整数占位符\n",
    "    - %o          八进制整数占位符\n",
    "    - %%          输出%\n"
   ]
  },
  {
   "cell_type": "code",
   "execution_count": 19,
   "metadata": {},
   "outputs": [
    {
     "name": "stdout",
     "output_type": "stream",
     "text": [
      "I love papa\n",
      "I love %s\n",
      "I love mama\n"
     ]
    }
   ],
   "source": [
    "# %s 表示简单的字符串\n",
    "# 占位符可以单独使用\n",
    "s = \"I love %s\"\n",
    "print(s%\"papa\")\n",
    "print(s)\n",
    "\n",
    "print(s%\"mama\")\n"
   ]
  },
  {
   "cell_type": "code",
   "execution_count": 25,
   "metadata": {},
   "outputs": [
    {
     "name": "stdout",
     "output_type": "stream",
     "text": [
      "I love momo\n"
     ]
    }
   ],
   "source": [
    "print(\"I love %s\"%\"momo\")"
   ]
  },
  {
   "cell_type": "code",
   "execution_count": 26,
   "metadata": {},
   "outputs": [
    {
     "name": "stdout",
     "output_type": "stream",
     "text": [
      "今年19岁了，长得好着急\n"
     ]
    },
    {
     "ename": "TypeError",
     "evalue": "%d format: a number is required, not str",
     "output_type": "error",
     "traceback": [
      "\u001b[1;31m---------------------------------------------------------------------------\u001b[0m",
      "\u001b[1;31mTypeError\u001b[0m                                 Traceback (most recent call last)",
      "\u001b[1;32m<ipython-input-26-ee930a50c300>\u001b[0m in \u001b[0;36m<module>\u001b[1;34m()\u001b[0m\n\u001b[0;32m      2\u001b[0m \u001b[0ms\u001b[0m \u001b[1;33m=\u001b[0m \u001b[1;34m\"今年%d岁了，长得好着急\"\u001b[0m\u001b[1;33m\u001b[0m\u001b[0m\n\u001b[0;32m      3\u001b[0m \u001b[0mprint\u001b[0m\u001b[1;33m(\u001b[0m\u001b[0ms\u001b[0m\u001b[1;33m%\u001b[0m\u001b[1;36m19\u001b[0m\u001b[1;33m)\u001b[0m\u001b[1;33m\u001b[0m\u001b[0m\n\u001b[1;32m----> 4\u001b[1;33m \u001b[0mprint\u001b[0m\u001b[1;33m(\u001b[0m\u001b[0ms\u001b[0m\u001b[1;33m%\u001b[0m\u001b[1;34m\"19\"\u001b[0m\u001b[1;33m)\u001b[0m\u001b[1;33m\u001b[0m\u001b[0m\n\u001b[0m",
      "\u001b[1;31mTypeError\u001b[0m: %d format: a number is required, not str"
     ]
    }
   ],
   "source": [
    "# 占位符一般只能被同类型替换，或者替换类型能被转换成占位符的类型\n",
    "s = \"今年%d岁了，长得好着急\"\n",
    "print(s%19)\n",
    "print(s%\"19\")"
   ]
  },
  {
   "cell_type": "code",
   "execution_count": 34,
   "metadata": {},
   "outputs": [
    {
     "name": "stdout",
     "output_type": "stream",
     "text": [
      "I am 76.000000kg Weight, 1.840000m Heigh\n",
      "I am 76.00kg Weight, 1.84m Heigh\n"
     ]
    }
   ],
   "source": [
    "s = \"I am %fkg Weight, %fm Heigh\"\n",
    "# 如果需要格式化的信息多于一个，则用括号括起来就可以\n",
    "# 以下打印使用了默认格式，多余打出了好多个零\n",
    "print(s%(76,1.84))\n",
    "\n",
    "# 实际需要进行格式化的信息的数量必须与百分号后面给出的数据数量匹配，否则报错\n",
    "s = \"I am %.2fkg Weight, %.2fm Heigh\"\n",
    "print(s%(76,1.84))"
   ]
  },
  {
   "cell_type": "markdown",
   "metadata": {},
   "source": [
    "# format格式化\n",
    "- 使用函数形式进行格式化，代替以前的百分号"
   ]
  },
  {
   "cell_type": "code",
   "execution_count": 52,
   "metadata": {},
   "outputs": [
    {
     "name": "stdout",
     "output_type": "stream",
     "text": [
      "Hello World!\n",
      "Hello World!\n",
      "hello world!\n",
      "hello hello!\n",
      "I love papa and papa loves me\n",
      "我们是111，我们的网址是www.xx.com，666最帅\n"
     ]
    }
   ],
   "source": [
    "# 不用指定位置，按顺序读取\n",
    "\n",
    "# 方式1\n",
    "s = \"{} {}!\"\n",
    "print(s.format(\"Hello\",\"World\"))\n",
    "\n",
    "# 方式2\n",
    "s = \"{} {}!\".format(\"Hello\",\"World\")\n",
    "print(s) # 相当于打印“hello world”\n",
    "\n",
    "# 设置指定位置\n",
    "s = \"{1} {0}!\".format(\"world\",\"hello\")\n",
    "print(s)\n",
    "s = \"{1} {1}!\".format(\"world\",\"hello\")\n",
    "print(s)\n",
    "\n",
    "s = \"I love {0} and {0} loves me\".format(\"papa\",\"mama\")\n",
    "print(s)\n",
    "# 以下案例会报错\n",
    "# s =\"I love {} and {} loves me\".format(\"papa\")\n",
    "\n",
    "# 使用命名参数\n",
    "s = \"我们是{school_name}，我们的网址是{url}，{teacher}最帅\"\n",
    "s = s.format(school_name=\"111\",url=\"www.xx.com\",teacher=\"666\")\n",
    "print(s)"
   ]
  },
  {
   "cell_type": "code",
   "execution_count": 60,
   "metadata": {},
   "outputs": [
    {
     "name": "stdout",
     "output_type": "stream",
     "text": [
      "我们是111，我们的网址是www.xx.com，666最帅\n"
     ]
    }
   ],
   "source": [
    "# 通过字典设置参数，需要解包\n",
    "# 使用命名参数\n",
    "s = \"我们是{school_name}，我们的网址是{url}，{teacher}最帅\"\n",
    "s_dict ={\"school_name\":\"111\",\"url\":\"www.xx.com\",\"teacher\":\"666\"}\n",
    "\n",
    "# **是解包\n",
    "s = s.format(**s_dict)\n",
    "print(s)"
   ]
  },
  {
   "cell_type": "code",
   "execution_count": 1,
   "metadata": {},
   "outputs": [
    {
     "name": "stdout",
     "output_type": "stream",
     "text": [
      "dada is 1.88m heigh, 71.20KG weight\n",
      "555,format函数是使用{}来进行占位的,\n"
     ]
    }
   ],
   "source": [
    "# 对数字的格式化需要用到\n",
    "# %.2f \n",
    "s = \"dada is {:.2f}m heigh, {:.2f}KG weight\"\n",
    "print(s.format(1.88,71.2))\n",
    "\n",
    "# ^,<.>分别是居中、左对齐、右对齐，后面带宽度\n",
    "# :号后面带填充的字符，只能是一个字符，不指定则默认用空格填充\n",
    "# + 表示在正数前显示+，负数前显示-， （空格）表示在正数前加空格\n",
    "# b、d、o、x分别是二进制、十进制、八进制、十六进制\n",
    "# 此外我们可以使用大括号{}来转义大括号\n",
    "\n",
    "# 大括号转义案例\n",
    "# s = \"{},format函数是使用{}来进行占位的,\" #会报错\n",
    "s = \"{},format函数是使用{{}}来进行占位的,\"\n",
    "print(s.format(\"555\"))"
   ]
  },
  {
   "cell_type": "markdown",
   "metadata": {},
   "source": [
    "# str内置函数\n",
    "- 很多语言字符串使用string表示，但是python中用str表示字符\n",
    "\n",
    "### 字符串查找类：find, index, islower\n",
    "- fing:查找字符串中是否包含一个子串\n",
    "- index: 跟find一唯一的区别是index如果找不到会引发异常\n",
    "- rfind,lfind：从右查找，从左查找"
   ]
  },
  {
   "cell_type": "code",
   "execution_count": 14,
   "metadata": {},
   "outputs": [],
   "source": [
    " # 不了解一个函数可以用help函数查看说明文档。\n",
    "# help(str)"
   ]
  },
  {
   "cell_type": "code",
   "execution_count": 5,
   "metadata": {},
   "outputs": [
    {
     "name": "stdout",
     "output_type": "stream",
     "text": [
      "Help on method_descriptor:\n",
      "\n",
      "find(...)\n",
      "    S.find(sub[, start[, end]]) -> int\n",
      "    \n",
      "    Return the lowest index in S where substring sub is found,\n",
      "    such that sub is contained within S[start:end].  Optional\n",
      "    arguments start and end are interpreted as in slice notation.\n",
      "    \n",
      "    Return -1 on failure.\n",
      "\n"
     ]
    }
   ],
   "source": [
    "help(str.find)"
   ]
  },
  {
   "cell_type": "code",
   "execution_count": 8,
   "metadata": {},
   "outputs": [
    {
     "data": {
      "text/plain": [
       "-1"
      ]
     },
     "execution_count": 8,
     "metadata": {},
     "output_type": "execute_result"
    }
   ],
   "source": [
    "s = \"dada love xiaoxiao\"\n",
    "s1 = \"xiaoxiao\"\n",
    "\n",
    "# 返回第一次出现这个字符串的位置\n",
    "s.find(s1)\n",
    "\n",
    "# 返回-1表示没有找到\n",
    "s2 = \"momo\"\n",
    "s.find(s2)"
   ]
  },
  {
   "cell_type": "code",
   "execution_count": 9,
   "metadata": {},
   "outputs": [
    {
     "ename": "ValueError",
     "evalue": "substring not found",
     "output_type": "error",
     "traceback": [
      "\u001b[1;31m---------------------------------------------------------------------------\u001b[0m",
      "\u001b[1;31mValueError\u001b[0m                                Traceback (most recent call last)",
      "\u001b[1;32m<ipython-input-9-c2e5d6055b64>\u001b[0m in \u001b[0;36m<module>\u001b[1;34m()\u001b[0m\n\u001b[1;32m----> 1\u001b[1;33m \u001b[0ms\u001b[0m\u001b[1;33m.\u001b[0m\u001b[0mindex\u001b[0m\u001b[1;33m(\u001b[0m\u001b[0ms2\u001b[0m\u001b[1;33m)\u001b[0m\u001b[1;33m\u001b[0m\u001b[0m\n\u001b[0m",
      "\u001b[1;31mValueError\u001b[0m: substring not found"
     ]
    }
   ],
   "source": [
    "# index找不到会报错\n",
    "s.index(s2)"
   ]
  },
  {
   "cell_type": "code",
   "execution_count": 13,
   "metadata": {},
   "outputs": [
    {
     "data": {
      "text/plain": [
       "-1"
      ]
     },
     "execution_count": 13,
     "metadata": {},
     "output_type": "execute_result"
    }
   ],
   "source": [
    "# 使用的时候还可以使用区间\n",
    "s = \"dada love mama\"\n",
    "s1 = \"mama\"\n",
    "\n",
    "# 从下表20开始查找，看能否找到了\n",
    "s.find(s1, 20)"
   ]
  },
  {
   "cell_type": "markdown",
   "metadata": {},
   "source": [
    "### 判断类函数\n",
    "- 此类函数的特点十一班都是用is开头，比如islower\n",
    "- isalpha:判断是否是字母，需要注意的是两点：\n",
    "    - 此函数默认的前提是字符串至少包含一个字符，如果没有，同样返回False.\n",
    "    - 汉字被认为是alpha,所以，此函数不能作为区分英语字母还是汉字的标识，区分中英文请使用unicode码。\n",
    "    - 注意使用区别，防止被坑\n",
    "- isdigit, isnumeric, isdecimal 三个判断数字的函数\n",
    "    - 此类函数不建议使用，在后期爬虫中，判断是否数字建议使用正则表达式\n",
    "            \n",
    "        对这三个函数的一个总结\n",
    "            isdigit():\n",
    "                True:Unicode数字，byte(数字)，全角数字（双字节），罗马数字\n",
    "                False:汉字数字\n",
    "                Error:无\n",
    "            isdecimal()\n",
    "                True:Unicode数字，全角数字（双字节）\n",
    "                False:罗马数字，汉字数字\n",
    "                Error:byte数字（单字节）\n",
    "            isnumberic()\n",
    "                True:Unicode数字，全角数字（双字节）,罗马数字，汉字数字\n",
    "                False:无\n",
    "                Error:byte数字（单字节）"
   ]
  },
  {
   "cell_type": "code",
   "execution_count": 16,
   "metadata": {},
   "outputs": [
    {
     "name": "stdout",
     "output_type": "stream",
     "text": [
      "False\n",
      "False\n",
      "False\n"
     ]
    }
   ],
   "source": [
    "# 以下三个都不是的，因为有除了字母意外的空格等\n",
    "s1 = \"注意使用区别，防止被坑\"\n",
    "s2 = \"this is an apple\"\n",
    "s3 =\"www.xxx.com\"\n",
    "\n",
    "print(s1.isalpha())\n",
    "print(s2.isalpha())\n",
    "print(s3.isalpha())"
   ]
  },
  {
   "cell_type": "code",
   "execution_count": 18,
   "metadata": {},
   "outputs": [
    {
     "name": "stdout",
     "output_type": "stream",
     "text": [
      "False\n",
      "True\n",
      "False\n"
     ]
    }
   ],
   "source": [
    "# 需要注意的是，因为输入法的问题，输入罗马数字可能得不到我们想要的结果\n",
    "chin_num =\"一二三四\"\n",
    "print(chin_num.isdigit())\n",
    "print(chin_num.isnumeric())\n",
    "print(chin_num.isdecimal())"
   ]
  },
  {
   "cell_type": "markdown",
   "metadata": {},
   "source": [
    "### 内容判断类\n",
    "- startswith/endswith:是否以XXX开头或结尾\n",
    "    - 检测某个字符串是否以某个子串开头，常用三个参数\n",
    "    - suffix: 被检查的字符串，必须有\n",
    "    - start: 被检查范围的开始范围\n",
    "    - end:被检查范围的结束范围\n",
    "- islower/isupper:判断字符串是否是大写或小写"
   ]
  },
  {
   "cell_type": "code",
   "execution_count": 22,
   "metadata": {},
   "outputs": [
    {
     "name": "stdout",
     "output_type": "stream",
     "text": [
      "True\n",
      "False\n"
     ]
    }
   ],
   "source": [
    "dana = \"Liu Dana\"\n",
    "xiaojing = \"Xiao jing\"\n",
    "\n",
    "s = \"Liu Dana really love wang xiaojing\"\n",
    "\n",
    "print(s.startswith(dana))\n",
    "print(s.endswith(xiaojing))"
   ]
  },
  {
   "cell_type": "code",
   "execution_count": 24,
   "metadata": {},
   "outputs": [
    {
     "name": "stdout",
     "output_type": "stream",
     "text": [
      "False\n",
      "False\n",
      "True\n",
      "True\n",
      "False\n",
      "False\n"
     ]
    }
   ],
   "source": [
    "s1 = \"Dana love wang xiaojing\"\n",
    "s2 = \"Danalovewangxiaojing\"\n",
    "s3 = \"danalovewangxiaojing\"\n",
    "# s4 包含空格，单个空格不影响结果，忽略\n",
    "s4 = \"dana love wangxiaojing\"\n",
    "s5 = \"刘大拿\"\n",
    "\n",
    "print(s1.islower())\n",
    "print(s2.islower())\n",
    "print(s3.islower())\n",
    "print(s4.islower())\n",
    "# 汉字字符串无大小写概念\n",
    "print(s5.islower())\n",
    "print(s5.isupper())"
   ]
  },
  {
   "cell_type": "markdown",
   "metadata": {},
   "source": [
    "### 操作类函数\n",
    "- format: 格式化用的\n",
    "- strip: 这个函数主要作用是删除字符串两边的空格，其实这个函数允许你去定义删除字符串两边的那个字符，只不过如果不指定的话，默认是空格。同样还有lstrip和rstrip,此处l和r分别表示左边和右边，即删除字符串左边或右边指定字符。默认空格，需要注意的是，此处的删除不是删除一个，是指从头开始符合条件的连续字符。\n",
    "- join: 这个函数主要对字符串进行拼接。它需要一个可以迭代的内容作为参数，功能是把可迭代的字符串拼接在一起，中间使用调用字符串作为分隔符。"
   ]
  },
  {
   "cell_type": "code",
   "execution_count": 35,
   "metadata": {},
   "outputs": [
    {
     "name": "stdout",
     "output_type": "stream",
     "text": [
      "DDDDana love xiaojing------\n",
      "DDDDana love xiaojing   -----\n",
      "~~~~~~~~~~~~~~~~~~~~~~~~~\n",
      "ana love xiaojing   ------\n",
      "DDDDana love xiaojing   -----"
     ]
    }
   ],
   "source": [
    "c = \"DDDDana love xiaojing   \"\n",
    "print(c.strip(), end=\"------\")\n",
    "print()\n",
    "print(c,end=\"-----\")\n",
    "print()\n",
    "print(\"~~~~~~~~~~~~~~~~~~~~~~~~~\")\n",
    "print(c.strip(\"D\"), end=\"------\")\n",
    "print()\n",
    "print(c,end=\"-----\")"
   ]
  },
  {
   "cell_type": "code",
   "execution_count": 37,
   "metadata": {},
   "outputs": [
    {
     "name": "stdout",
     "output_type": "stream",
     "text": [
      "Liu Dana$Love$Wang$Xiaojing\n",
      "Liu Dana-Love-Wang-Xiaojing\n",
      "Liu Dana Love Wang Xiaojing\n"
     ]
    }
   ],
   "source": [
    "# join的例子，我们需要使用s1,s2,s3作为分隔符，把ss内的内容拼接在一起\n",
    "s1 = \"$\"\n",
    "s2 = \"-\"\n",
    "s3 = \" \"\n",
    "ss = [\"Liu Dana\", \"Love\", \"Wang\", \"Xiaojing\"]\n",
    "\n",
    "print(s1.join(ss))\n",
    "print(s2.join(ss))\n",
    "print(s3.join(ss))"
   ]
  }
 ],
 "metadata": {
  "kernelspec": {
   "display_name": "Python 3",
   "language": "python",
   "name": "python3"
  },
  "language_info": {
   "codemirror_mode": {
    "name": "ipython",
    "version": 3
   },
   "file_extension": ".py",
   "mimetype": "text/x-python",
   "name": "python",
   "nbconvert_exporter": "python",
   "pygments_lexer": "ipython3",
   "version": "3.7.0"
  }
 },
 "nbformat": 4,
 "nbformat_minor": 2
}
