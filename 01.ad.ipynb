{
 "cells": [
  {
   "cell_type": "markdown",
   "metadata": {},
   "source": [
    "# 变量\n",
    "\n",
    "\n",
    "\n",
    "### 变量的命名\n",
    "\n",
    "    * 数字、大小写、下划线\n",
    "    * 严格区分大小写\n",
    "\n",
    "\n",
    "###  命名方法：\n",
    "    - 大驼峰  \n",
    "        * 每个单词第一个字母都用大写\n",
    "        * 一般给类名字采用\n",
    "        * MyFirstLove IntOne\n",
    "        \n",
    "    - 小驼峰  \n",
    "        * 和大驼峰类似，但第一个字母用小写\n",
    "        * 一般给普通变量和函数命名\n",
    "        * myFirstLove，intOne \n",
    "\n",
    "    - posix写法\n",
    "        * 都用小写，每个单词之前用下划线\n",
    "        * my_first_love, int_one\n",
    "\n",
    "\n",
    "### 保留字和关键字\n",
    "\n",
    "    - 变量名必须避开，不能和关键字以及保留字重复\n",
    "    - class, def, for.....\n",
    "\n"
   ]
  },
  {
   "cell_type": "code",
   "execution_count": 2,
   "metadata": {},
   "outputs": [
    {
     "name": "stdout",
     "output_type": "stream",
     "text": [
      "['False', 'None', 'True', 'and', 'as', 'assert', 'async', 'await', 'break', 'class', 'continue', 'def', 'del', 'elif', 'else', 'except', 'finally', 'for', 'from', 'global', 'if', 'import', 'in', 'is', 'lambda', 'nonlocal', 'not', 'or', 'pass', 'raise', 'return', 'try', 'while', 'with', 'yield']\n"
     ]
    }
   ],
   "source": [
    "# 查看关键字的方法\n",
    "import keyword #导入关键字模块\n",
    "#打印出系统全部关键字\n",
    "print(keyword.kwlist)"
   ]
  },
  {
   "cell_type": "markdown",
   "metadata": {},
   "source": [
    "###  变量声明\n",
    "* var_name = var_value\n",
    "* var1 = var2 = var3 = var_value\n",
    "* var1, var2 = var1_value, var2_value "
   ]
  },
  {
   "cell_type": "code",
   "execution_count": 3,
   "metadata": {},
   "outputs": [
    {
     "name": "stdout",
     "output_type": "stream",
     "text": [
      "18\n",
      "18\n",
      "18\n",
      "18\n",
      "12\n",
      "21\n",
      "45\n"
     ]
    }
   ],
   "source": [
    "# 定义变量age ,把18放入变量中\n",
    "age = 18\n",
    "print(age)\n",
    "\n",
    "#给age1, age2, age3 放入同一个内容或值\n",
    "age1 = age2 = age3 = 18\n",
    "print(age1)\n",
    "print(age2)\n",
    "print(age3)\n",
    "\n",
    "#一行内给多个变量赋值\n",
    "age4, age5, age6 = 12, 21, 45\n",
    "print(age4)\n",
    "print(age5)\n",
    "print(age6)\n"
   ]
  }
 ],
 "metadata": {
  "kernelspec": {
   "display_name": "Python 3",
   "language": "python",
   "name": "python3"
  },
  "language_info": {
   "codemirror_mode": {
    "name": "ipython",
    "version": 3
   },
   "file_extension": ".py",
   "mimetype": "text/x-python",
   "name": "python",
   "nbconvert_exporter": "python",
   "pygments_lexer": "ipython3",
   "version": "3.7.0"
  }
 },
 "nbformat": 4,
 "nbformat_minor": 2
}
