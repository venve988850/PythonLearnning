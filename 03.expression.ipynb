{
 "cells": [
  {
   "cell_type": "markdown",
   "metadata": {},
   "source": [
    "# 表达式\n",
    "- 由一个或者几个数字或变量或运算符合成的一行代码\n",
    "- 通常返回一个结果\n",
    "# 运算符\n",
    "- 由一个以上的值经过一系列的运算得到新值的过程就叫运算\n",
    "- 用来操作运算的符号叫运算符\n",
    "- 运算符分类\n",
    "    - 算数运算符\n",
    "    - 比较或者关系运算符\n",
    "    - 赋值运算符\n",
    "    - 逻辑运算符\n",
    "    - 位运算\n",
    "    - 成员运算符\n",
    "    - 身份运算符\n",
    "    "
   ]
  },
  {
   "cell_type": "code",
   "execution_count": 2,
   "metadata": {
    "collapsed": true
   },
   "outputs": [],
   "source": [
    "# 表达式案例\n",
    "a = 1 + 2"
   ]
  },
  {
   "cell_type": "markdown",
   "metadata": {},
   "source": [
    "## 算数运算符\n",
    "- 用来进行算数运算的符号\n",
    "- 通常用来表示加减乘除\n",
    "- Python没有自增自减运算符"
   ]
  },
  {
   "cell_type": "code",
   "execution_count": 11,
   "metadata": {},
   "outputs": [
    {
     "name": "stdout",
     "output_type": "stream",
     "text": [
      "7\n",
      "11\n",
      "16\n",
      "4.5\n",
      "-4.5\n",
      "4\n",
      "1\n",
      "-3\n",
      "49\n"
     ]
    }
   ],
   "source": [
    "# 算术运算符案例\n",
    "\n",
    "# 加减乘除合数学意义基本一致\n",
    "\n",
    "a = 9 - 2\n",
    "print(a)\n",
    "\n",
    "b = 9 + 2\n",
    "print(b)\n",
    "\n",
    "c = 8 * 2\n",
    "print(c)\n",
    "\n",
    "# python除法分为普通出发，整除，取余\n",
    "\n",
    "# 正常除法\n",
    "# 此操作符在python2.x 和 3.x有些不同\n",
    "a = 9 / 2  # 返回float类型的值\n",
    "print(a) \n",
    "\n",
    "# 除以负数的结果\n",
    "a = 9 / -2\n",
    "print(a)\n",
    "\n",
    "# 地板除，取整\n",
    "a = 9 // 2\n",
    "print(a)\n",
    "\n",
    "# 取余\n",
    "a = 9 % 2\n",
    "print(a)\n",
    "\n",
    "# 除以负数的结果\n",
    "# 理解这个结果参考取余的定义\n",
    "a = 9 % -4  # 除以负数 输出被除数-余数 可以被除数整除（最小值）\n",
    "print(a)\n",
    "\n",
    "# 两个乘号就是指数\n",
    "a = 7 ** 2\n",
    "print(a)"
   ]
  },
  {
   "cell_type": "markdown",
   "metadata": {},
   "source": [
    "# 比较运算符\n",
    "- 对两个内容进行比较的运算符\n",
    "- 结果一定是布尔值，即 True or False\n",
    "-"
   ]
  },
  {
   "cell_type": "code",
   "execution_count": 16,
   "metadata": {},
   "outputs": [
    {
     "name": "stdout",
     "output_type": "stream",
     "text": [
      "False\n",
      "True\n",
      "False\n",
      "True\n"
     ]
    }
   ],
   "source": [
    "# 等于 ==\n",
    "a = 3 == 4\n",
    "print(a)\n",
    "\n",
    "# 不等于 !=\n",
    "a = 3 != 4\n",
    "print(a)\n",
    "\n",
    "# 其他的符号是\n",
    "# >, >=,<.<=\n",
    "\n",
    "print(3>=8)\n",
    "print(\"wangxiaojing\">\"liudana\")"
   ]
  },
  {
   "cell_type": "markdown",
   "metadata": {},
   "source": [
    "# 赋值运算符\n",
    "- 把一个值放到变量里面"
   ]
  },
  {
   "cell_type": "code",
   "execution_count": 21,
   "metadata": {},
   "outputs": [
    {
     "name": "stdout",
     "output_type": "stream",
     "text": [
      "3\n",
      "3\n"
     ]
    }
   ],
   "source": [
    "# 赋值符号 =\n",
    "a = 9 #运算优先级最低\n",
    "\n",
    "# 复杂赋值\n",
    "a = b = 9\n",
    "a, b = 1, 2\n",
    "\n",
    "# 赋值的缩写\n",
    "c1 = 0\n",
    "c1 = c1 + 3\n",
    "print(c1)\n",
    "\n",
    "# 注意下面符号仅仅是一个缩写\n",
    "cc = 0\n",
    "cc += 3 # 等价于 cc = cc + 3\n",
    "print(cc)\n",
    "\n",
    "# 所有数学运算符都可以缩写\n",
    "# -=，*=， /=, //=, %=, **=, 都是缩写形式\n",
    "# Python里面没有 ++， --  自增，自减"
   ]
  },
  {
   "cell_type": "markdown",
   "metadata": {},
   "source": [
    "# 逻辑运算符\n",
    "- 对布尔类型变量或值进行运算的符号\n",
    "- and : 逻辑与\n",
    "- or : 逻辑或\n",
    "- not : 逻辑非\n",
    "- Python里面的逻辑运算没有异或\n",
    "- 运算规则：\n",
    "    - and看做乘法，or 看做加法\n",
    "    - True看做1，False看做0\n",
    "    - 则逻辑运算就能转换成整数数学运算\n",
    "    - 最后结果如果是0则位False, 否则位True\n",
    "- 逻辑运算的短路问题\n",
    "    - 逻辑运算式，按照运算的顺序计算，一旦能够确定整个式子未来的值，则不再进行运算."
   ]
  },
  {
   "cell_type": "code",
   "execution_count": 23,
   "metadata": {},
   "outputs": [
    {
     "name": "stdout",
     "output_type": "stream",
     "text": [
      "True\n",
      "False\n",
      "False\n"
     ]
    }
   ],
   "source": [
    "# 逻辑表达举例\n",
    "a = True\n",
    "b = True\n",
    "c = False\n",
    "\n",
    "aa = a and b #可以转换成 1*1\n",
    "print(aa)\n",
    "\n",
    "bb =a and c\n",
    "print(bb)\n",
    "\n",
    "cc = 100 and c\n",
    "print(cc)\n",
    "\n",
    "# 布尔值跟数字的转换\n",
    "# 数字转换成布尔值的时候， 0 = False, 其余是True\n",
    "# 布尔值转换成数字的时候： True = 1， False = 0"
   ]
  },
  {
   "cell_type": "code",
   "execution_count": 24,
   "metadata": {},
   "outputs": [
    {
     "name": "stdout",
     "output_type": "stream",
     "text": [
      "True\n"
     ]
    }
   ],
   "source": [
    "# 短路问题的案例\n",
    "a = True\n",
    "b = True\n",
    "c = False\n",
    "\n",
    "aa = a or b and (a and b)  # 转换成算数　1 + ..... ... ..\n",
    "print(aa)"
   ]
  },
  {
   "cell_type": "code",
   "execution_count": 28,
   "metadata": {},
   "outputs": [
    {
     "name": "stdout",
     "output_type": "stream",
     "text": [
      "a\n",
      "b\n",
      "True\n",
      "********************\n",
      "a\n",
      "True\n"
     ]
    }
   ],
   "source": [
    "#  短路问题案例２\n",
    "def a():\n",
    "    print('a')\n",
    "    return True\n",
    "\n",
    "def b():\n",
    "    print('b')\n",
    "    return True\n",
    "\n",
    "aaa = a() and b()\n",
    "print(aaa)\n",
    "\n",
    "print(\"*\" * 20)\n",
    "\n",
    "bbb = a() or b()  # 短路发生 \n",
    "print(bbb)\n"
   ]
  },
  {
   "cell_type": "markdown",
   "metadata": {},
   "source": [
    "# 成员运算符\n",
    "- 用来检测一个值或者变量是否再某个集合里面\n",
    "- in ：成员运算符\n",
    "- not in: 不在里面的意思"
   ]
  },
  {
   "cell_type": "code",
   "execution_count": 31,
   "metadata": {},
   "outputs": [
    {
     "name": "stdout",
     "output_type": "stream",
     "text": [
      "False\n",
      "True\n"
     ]
    }
   ],
   "source": [
    "# in 案例\n",
    "L = [1, 2, 3, 4, 5]\n",
    "a = 6\n",
    "\n",
    "aa = a in L \n",
    "print(aa)\n",
    "\n",
    "# a 不在L里面\n",
    "bb = a not in L\n",
    "print(bb)"
   ]
  },
  {
   "cell_type": "markdown",
   "metadata": {},
   "source": [
    "# 身份运算符\n",
    "- 用来确定两个变量是否是同一变量\n",
    "- is: 变量运算符\n",
    "- is not： 不是"
   ]
  },
  {
   "cell_type": "code",
   "execution_count": 35,
   "metadata": {},
   "outputs": [
    {
     "name": "stdout",
     "output_type": "stream",
     "text": [
      "False\n",
      "10000989888\n",
      "True\n"
     ]
    }
   ],
   "source": [
    "# 身份运算符案例\n",
    "a = 1\n",
    "b = 10000989888\n",
    "\n",
    "aa = a is b\n",
    "print(aa)\n",
    "\n",
    "\n",
    "# a, b仅仅是值一样， 并不代表a, b是同一个变量\n",
    "a = 10000989888\n",
    "b = 10000989888\n",
    "\n",
    "aa = a is b\n",
    "print(a)\n",
    "\n",
    "#正确理解上下两个案例的不同\n",
    "# a, b仅仅是值一样， 并不代表a, b是同一个变量\n",
    "a = 5\n",
    "b = 5\n",
    "\n",
    "aa = a is b\n",
    "print(aa)\n"
   ]
  },
  {
   "cell_type": "markdown",
   "metadata": {},
   "source": [
    "# 运算符优先级问题\n",
    "- 小括号具有最高优先级\n",
    "  - \\*\\* 指数（最高优先级)\n",
    "  - +、- 按位翻转， 一元加号和减号（最后两个的方法位+@ 和 -@）\n",
    "  - \\*、/ % // 乘， 除， 取余和取整\n",
    "  - +、- 加法减法\n",
    "  - \\>\\>,<< 右移， 左移运算符\n",
    "  - & 位'AND'\n",
    "  - ^ | 位运算符\n",
    "  - <= < > >= 比较运算符\n",
    "  - <> == != 等于运算符\n",
    "  - = %= /= //= -= += \\*= \\*\\*= 赋值运算符\n",
    "  - is is not 身份运算符\n",
    "  - in not in 成员运算符\n",
    "  - not or and 逻辑运算符"
   ]
  }
 ],
 "metadata": {
  "kernelspec": {
   "display_name": "Python 3",
   "language": "python",
   "name": "python3"
  },
  "language_info": {
   "codemirror_mode": {
    "name": "ipython",
    "version": 3
   },
   "file_extension": ".py",
   "mimetype": "text/x-python",
   "name": "python",
   "nbconvert_exporter": "python",
   "pygments_lexer": "ipython3",
   "version": "3.6.3"
  }
 },
 "nbformat": 4,
 "nbformat_minor": 2
}
