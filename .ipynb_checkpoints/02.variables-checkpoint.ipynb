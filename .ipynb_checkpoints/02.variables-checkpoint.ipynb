{
 "cells": [
  {
   "cell_type": "markdown",
   "metadata": {},
   "source": [
    "# 主要内容\n",
    "- 坚持写Blog\n",
    "- jupyter notebook的用法\n",
    "- 变量\n",
    "- 跟vi/vim的编辑模式很像"
   ]
  },
  {
   "cell_type": "code",
   "execution_count": 6,
   "metadata": {},
   "outputs": [
    {
     "name": "stdout",
     "output_type": "stream",
     "text": [
      "我爱王晓静\n"
     ]
    }
   ],
   "source": [
    "#声明的三种格式\n",
    "#格式1\n",
    "s1 = \"我爱王晓静\"\n",
    "\n",
    "#格式2\n",
    "s2 = s1 = \"我\"\n",
    "\n",
    "#格式3\n",
    "s1, s2, s3 = 1, 3, 'a'\n"
   ]
  },
  {
   "cell_type": "markdown",
   "metadata": {},
   "source": []
  }
 ],
 "metadata": {
  "kernelspec": {
   "display_name": "Python 3",
   "language": "python",
   "name": "python3"
  },
  "language_info": {
   "codemirror_mode": {
    "name": "ipython",
    "version": 3
   },
   "file_extension": ".py",
   "mimetype": "text/x-python",
   "name": "python",
   "nbconvert_exporter": "python",
   "pygments_lexer": "ipython3",
   "version": "3.6.3"
  }
 },
 "nbformat": 4,
 "nbformat_minor": 2
}
